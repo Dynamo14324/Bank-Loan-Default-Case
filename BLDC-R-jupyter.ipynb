{
 "cells": [
  {
   "cell_type": "markdown",
   "metadata": {},
   "source": [
    "## Loading data"
   ]
  },
  {
   "cell_type": "code",
   "execution_count": 1,
   "metadata": {},
   "outputs": [
    {
     "name": "stdout",
     "output_type": "stream",
     "text": [
      "'data.frame':\t850 obs. of  9 variables:\n",
      " $ age     : int  41 27 40 41 24 41 39 43 24 36 ...\n",
      " $ ed      : int  3 1 1 1 2 2 1 1 1 1 ...\n",
      " $ employ  : int  17 10 15 15 2 5 20 12 3 0 ...\n",
      " $ address : int  12 6 14 14 0 5 9 11 4 13 ...\n",
      " $ income  : int  176 31 55 120 28 25 67 38 19 25 ...\n",
      " $ debtinc : num  9.3 17.3 5.5 2.9 17.3 10.2 30.6 3.6 24.4 19.7 ...\n",
      " $ creddebt: num  11.359 1.362 0.856 2.659 1.787 ...\n",
      " $ othdebt : num  5.009 4.001 2.169 0.821 3.057 ...\n",
      " $ default : int  1 0 0 0 1 0 0 0 1 0 ...\n"
     ]
    },
    {
     "data": {
      "text/html": [
       "<table>\n",
       "<caption>A data.frame: 6 × 9</caption>\n",
       "<thead>\n",
       "\t<tr><th></th><th scope=col>age</th><th scope=col>ed</th><th scope=col>employ</th><th scope=col>address</th><th scope=col>income</th><th scope=col>debtinc</th><th scope=col>creddebt</th><th scope=col>othdebt</th><th scope=col>default</th></tr>\n",
       "\t<tr><th></th><th scope=col>&lt;int&gt;</th><th scope=col>&lt;int&gt;</th><th scope=col>&lt;int&gt;</th><th scope=col>&lt;int&gt;</th><th scope=col>&lt;int&gt;</th><th scope=col>&lt;dbl&gt;</th><th scope=col>&lt;dbl&gt;</th><th scope=col>&lt;dbl&gt;</th><th scope=col>&lt;int&gt;</th></tr>\n",
       "</thead>\n",
       "<tbody>\n",
       "\t<tr><th scope=row>845</th><td>23</td><td>1</td><td> 3</td><td> 4</td><td> 13</td><td> 3.1</td><td>0.045539</td><td>0.357461</td><td>NA</td></tr>\n",
       "\t<tr><th scope=row>846</th><td>34</td><td>1</td><td>12</td><td>15</td><td> 32</td><td> 2.7</td><td>0.239328</td><td>0.624672</td><td>NA</td></tr>\n",
       "\t<tr><th scope=row>847</th><td>32</td><td>2</td><td>12</td><td>11</td><td>116</td><td> 5.7</td><td>4.026708</td><td>2.585292</td><td>NA</td></tr>\n",
       "\t<tr><th scope=row>848</th><td>48</td><td>1</td><td>13</td><td>11</td><td> 38</td><td>10.8</td><td>0.722304</td><td>3.381696</td><td>NA</td></tr>\n",
       "\t<tr><th scope=row>849</th><td>35</td><td>2</td><td> 1</td><td>11</td><td> 24</td><td> 7.8</td><td>0.417456</td><td>1.454544</td><td>NA</td></tr>\n",
       "\t<tr><th scope=row>850</th><td>37</td><td>1</td><td>20</td><td>13</td><td> 41</td><td>12.9</td><td>0.899130</td><td>4.389870</td><td>NA</td></tr>\n",
       "</tbody>\n",
       "</table>\n"
      ],
      "text/latex": [
       "A data.frame: 6 × 9\n",
       "\\begin{tabular}{r|lllllllll}\n",
       "  & age & ed & employ & address & income & debtinc & creddebt & othdebt & default\\\\\n",
       "  & <int> & <int> & <int> & <int> & <int> & <dbl> & <dbl> & <dbl> & <int>\\\\\n",
       "\\hline\n",
       "\t845 & 23 & 1 &  3 &  4 &  13 &  3.1 & 0.045539 & 0.357461 & NA\\\\\n",
       "\t846 & 34 & 1 & 12 & 15 &  32 &  2.7 & 0.239328 & 0.624672 & NA\\\\\n",
       "\t847 & 32 & 2 & 12 & 11 & 116 &  5.7 & 4.026708 & 2.585292 & NA\\\\\n",
       "\t848 & 48 & 1 & 13 & 11 &  38 & 10.8 & 0.722304 & 3.381696 & NA\\\\\n",
       "\t849 & 35 & 2 &  1 & 11 &  24 &  7.8 & 0.417456 & 1.454544 & NA\\\\\n",
       "\t850 & 37 & 1 & 20 & 13 &  41 & 12.9 & 0.899130 & 4.389870 & NA\\\\\n",
       "\\end{tabular}\n"
      ],
      "text/markdown": [
       "\n",
       "A data.frame: 6 × 9\n",
       "\n",
       "| <!--/--> | age &lt;int&gt; | ed &lt;int&gt; | employ &lt;int&gt; | address &lt;int&gt; | income &lt;int&gt; | debtinc &lt;dbl&gt; | creddebt &lt;dbl&gt; | othdebt &lt;dbl&gt; | default &lt;int&gt; |\n",
       "|---|---|---|---|---|---|---|---|---|---|\n",
       "| 845 | 23 | 1 |  3 |  4 |  13 |  3.1 | 0.045539 | 0.357461 | NA |\n",
       "| 846 | 34 | 1 | 12 | 15 |  32 |  2.7 | 0.239328 | 0.624672 | NA |\n",
       "| 847 | 32 | 2 | 12 | 11 | 116 |  5.7 | 4.026708 | 2.585292 | NA |\n",
       "| 848 | 48 | 1 | 13 | 11 |  38 | 10.8 | 0.722304 | 3.381696 | NA |\n",
       "| 849 | 35 | 2 |  1 | 11 |  24 |  7.8 | 0.417456 | 1.454544 | NA |\n",
       "| 850 | 37 | 1 | 20 | 13 |  41 | 12.9 | 0.899130 | 4.389870 | NA |\n",
       "\n"
      ],
      "text/plain": [
       "    age ed employ address income debtinc creddebt othdebt  default\n",
       "845 23  1   3      4       13     3.1    0.045539 0.357461 NA     \n",
       "846 34  1  12     15       32     2.7    0.239328 0.624672 NA     \n",
       "847 32  2  12     11      116     5.7    4.026708 2.585292 NA     \n",
       "848 48  1  13     11       38    10.8    0.722304 3.381696 NA     \n",
       "849 35  2   1     11       24     7.8    0.417456 1.454544 NA     \n",
       "850 37  1  20     13       41    12.9    0.899130 4.389870 NA     "
      ]
     },
     "metadata": {},
     "output_type": "display_data"
    }
   ],
   "source": [
    "rm(list=ls())\n",
    "bld=read.csv(\"bank-loan.csv\",header = T,na.strings = c(\" \",\"\",\"NA\"))\n",
    "str(bld)\n",
    "tail(bld)"
   ]
  },
  {
   "cell_type": "markdown",
   "metadata": {},
   "source": [
    "## For input data"
   ]
  },
  {
   "cell_type": "code",
   "execution_count": 2,
   "metadata": {},
   "outputs": [
    {
     "name": "stdout",
     "output_type": "stream",
     "text": [
      "Enter age: 41\n",
      "Enter ed: 3\n",
      "Enter employ: 17\n",
      "Enter address: 12\n",
      "Enter income: 176\n",
      "Enter debtinc: 9.3\n",
      "Enter creddebt: 11.359392\n",
      "Enter othdebt: 5.008\n"
     ]
    }
   ],
   "source": [
    "age = as.integer(readline(prompt=\"Enter age: \"))\n",
    "ed = as.integer(readline(prompt=\"Enter ed: \"))\n",
    "employ = as.integer(readline(prompt=\"Enter employ: \"))\n",
    "address = as.integer(readline(prompt=\"Enter address: \"))\n",
    "income = as.integer(readline(prompt=\"Enter income: \"))\n",
    "debtinc = as.double(readline(prompt=\"Enter debtinc: \"))\n",
    "creddebt = as.double(readline(prompt=\"Enter creddebt: \"))\n",
    "othdebt = as.double(readline(prompt=\"Enter othdebt: \"))\n",
    "\n",
    "# sample case values for default=1: 41\t3\t17\t12\t176\t9.3\t11.359392\t5.008608\t1"
   ]
  },
  {
   "cell_type": "code",
   "execution_count": 3,
   "metadata": {
    "scrolled": true
   },
   "outputs": [
    {
     "name": "stderr",
     "output_type": "stream",
     "text": [
      "Warning message in eval(expr, envir, enclos):\n",
      "\"NAs introduced by coercion\"\n"
     ]
    },
    {
     "name": "stdout",
     "output_type": "stream",
     "text": [
      "'data.frame':\t851 obs. of  9 variables:\n",
      " $ age     : int  41 27 40 41 24 41 39 43 24 36 ...\n",
      " $ ed      : int  3 1 1 1 2 2 1 1 1 1 ...\n",
      " $ employ  : int  17 10 15 15 2 5 20 12 3 0 ...\n",
      " $ address : int  12 6 14 14 0 5 9 11 4 13 ...\n",
      " $ income  : int  176 31 55 120 28 25 67 38 19 25 ...\n",
      " $ debtinc : num  9.3 17.3 5.5 2.9 17.3 10.2 30.6 3.6 24.4 19.7 ...\n",
      " $ creddebt: num  11.359 1.362 0.856 2.659 1.787 ...\n",
      " $ othdebt : num  5.009 4.001 2.169 0.821 3.057 ...\n",
      " $ default : int  1 0 0 0 1 0 0 0 1 0 ...\n"
     ]
    }
   ],
   "source": [
    "de <- list(age=age, ed=ed, employ=employ, address=address, income=income, debtinc=debtinc, creddebt=creddebt, othdebt=othdebt, default=\"NA\")\n",
    "bld = rbind(bld,de, stringsAsFactors=FALSE)\n",
    "bld$default=as.integer(bld$default)\n",
    "str(bld)"
   ]
  },
  {
   "cell_type": "markdown",
   "metadata": {},
   "source": [
    "## Loading Packages"
   ]
  },
  {
   "cell_type": "code",
   "execution_count": 4,
   "metadata": {},
   "outputs": [
    {
     "name": "stderr",
     "output_type": "stream",
     "text": [
      "Loading required package: ggplot2\n",
      "\n",
      "Loading required package: corrgram\n",
      "\n",
      "Registered S3 method overwritten by 'seriation':\n",
      "  method         from \n",
      "  reorder.hclust gclus\n",
      "\n",
      "Loading required package: DMwR\n",
      "\n",
      "Loading required package: lattice\n",
      "\n",
      "\n",
      "Attaching package: 'lattice'\n",
      "\n",
      "\n",
      "The following object is masked from 'package:corrgram':\n",
      "\n",
      "    panel.fill\n",
      "\n",
      "\n",
      "Loading required package: grid\n",
      "\n",
      "Registered S3 method overwritten by 'quantmod':\n",
      "  method            from\n",
      "  as.zoo.data.frame zoo \n",
      "\n",
      "Loading required package: caret\n",
      "\n",
      "Loading required package: randomForest\n",
      "\n",
      "randomForest 4.6-14\n",
      "\n",
      "Type rfNews() to see new features/changes/bug fixes.\n",
      "\n",
      "\n",
      "Attaching package: 'randomForest'\n",
      "\n",
      "\n",
      "The following object is masked from 'package:ggplot2':\n",
      "\n",
      "    margin\n",
      "\n",
      "\n",
      "Loading required package: unbalanced\n",
      "\n",
      "Loading required package: mlr\n",
      "\n",
      "Loading required package: ParamHelpers\n",
      "\n",
      "'mlr' is in maintenance mode since July 2019. Future development\n",
      "efforts will go into its successor 'mlr3' (<https://mlr3.mlr-org.com>).\n",
      "\n",
      "\n",
      "Attaching package: 'mlr'\n",
      "\n",
      "\n",
      "The following object is masked from 'package:caret':\n",
      "\n",
      "    train\n",
      "\n",
      "\n",
      "Loading required package: foreach\n",
      "\n",
      "Loading required package: doParallel\n",
      "\n",
      "Loading required package: iterators\n",
      "\n",
      "Loading required package: parallel\n",
      "\n",
      "Loading required package: C50\n",
      "\n",
      "Loading required package: inTrees\n",
      "\n",
      "Registered S3 method overwritten by 'RRF':\n",
      "  method      from        \n",
      "  plot.margin randomForest\n",
      "\n",
      "Loading required package: dummies\n",
      "\n",
      "dummies-1.5.6 provided by Decision Patterns\n",
      "\n",
      "\n",
      "Loading required package: e1071\n",
      "\n",
      "\n",
      "Attaching package: 'e1071'\n",
      "\n",
      "\n",
      "The following object is masked from 'package:mlr':\n",
      "\n",
      "    impute\n",
      "\n",
      "\n",
      "Loading required package: Information\n",
      "\n",
      "Loading required package: MASS\n",
      "\n",
      "Loading required package: rpart\n",
      "\n",
      "Loading required package: gbm\n",
      "\n",
      "Loaded gbm 2.1.5\n",
      "\n",
      "Loading required package: ROSE\n",
      "\n",
      "Loaded ROSE 0.0-3\n",
      "\n",
      "\n",
      "Loading required package: sampling\n",
      "\n",
      "\n",
      "Attaching package: 'sampling'\n",
      "\n",
      "\n",
      "The following object is masked from 'package:caret':\n",
      "\n",
      "    cluster\n",
      "\n",
      "\n",
      "Loading required package: RRF\n",
      "\n",
      "RRF 1.9.1\n",
      "\n",
      "Type rrfNews() to see new features/changes/bug fixes.\n",
      "\n",
      "\n",
      "Attaching package: 'RRF'\n",
      "\n",
      "\n",
      "The following objects are masked from 'package:randomForest':\n",
      "\n",
      "    classCenter, combine, getTree, grow, importance, margin, MDSplot,\n",
      "    na.roughfix, outlier, partialPlot, treesize, varImpPlot, varUsed\n",
      "\n",
      "\n",
      "The following object is masked from 'package:ggplot2':\n",
      "\n",
      "    margin\n",
      "\n",
      "\n"
     ]
    },
    {
     "data": {
      "text/html": [
       "<ol>\n",
       "\t<li>TRUE</li>\n",
       "\t<li>TRUE</li>\n",
       "\t<li>TRUE</li>\n",
       "\t<li>TRUE</li>\n",
       "\t<li>TRUE</li>\n",
       "\t<li>TRUE</li>\n",
       "\t<li>TRUE</li>\n",
       "\t<li>TRUE</li>\n",
       "\t<li>TRUE</li>\n",
       "\t<li>TRUE</li>\n",
       "\t<li>TRUE</li>\n",
       "\t<li>TRUE</li>\n",
       "\t<li>TRUE</li>\n",
       "\t<li>TRUE</li>\n",
       "\t<li>TRUE</li>\n",
       "\t<li>TRUE</li>\n",
       "\t<li>TRUE</li>\n",
       "</ol>\n"
      ],
      "text/latex": [
       "\\begin{enumerate}\n",
       "\\item TRUE\n",
       "\\item TRUE\n",
       "\\item TRUE\n",
       "\\item TRUE\n",
       "\\item TRUE\n",
       "\\item TRUE\n",
       "\\item TRUE\n",
       "\\item TRUE\n",
       "\\item TRUE\n",
       "\\item TRUE\n",
       "\\item TRUE\n",
       "\\item TRUE\n",
       "\\item TRUE\n",
       "\\item TRUE\n",
       "\\item TRUE\n",
       "\\item TRUE\n",
       "\\item TRUE\n",
       "\\end{enumerate}\n"
      ],
      "text/markdown": [
       "1. TRUE\n",
       "2. TRUE\n",
       "3. TRUE\n",
       "4. TRUE\n",
       "5. TRUE\n",
       "6. TRUE\n",
       "7. TRUE\n",
       "8. TRUE\n",
       "9. TRUE\n",
       "10. TRUE\n",
       "11. TRUE\n",
       "12. TRUE\n",
       "13. TRUE\n",
       "14. TRUE\n",
       "15. TRUE\n",
       "16. TRUE\n",
       "17. TRUE\n",
       "\n",
       "\n"
      ],
      "text/plain": [
       "[[1]]\n",
       "[1] TRUE\n",
       "\n",
       "[[2]]\n",
       "[1] TRUE\n",
       "\n",
       "[[3]]\n",
       "[1] TRUE\n",
       "\n",
       "[[4]]\n",
       "[1] TRUE\n",
       "\n",
       "[[5]]\n",
       "[1] TRUE\n",
       "\n",
       "[[6]]\n",
       "[1] TRUE\n",
       "\n",
       "[[7]]\n",
       "[1] TRUE\n",
       "\n",
       "[[8]]\n",
       "[1] TRUE\n",
       "\n",
       "[[9]]\n",
       "[1] TRUE\n",
       "\n",
       "[[10]]\n",
       "[1] TRUE\n",
       "\n",
       "[[11]]\n",
       "[1] TRUE\n",
       "\n",
       "[[12]]\n",
       "[1] TRUE\n",
       "\n",
       "[[13]]\n",
       "[1] TRUE\n",
       "\n",
       "[[14]]\n",
       "[1] TRUE\n",
       "\n",
       "[[15]]\n",
       "[1] TRUE\n",
       "\n",
       "[[16]]\n",
       "[1] TRUE\n",
       "\n",
       "[[17]]\n",
       "[1] TRUE\n"
      ]
     },
     "metadata": {},
     "output_type": "display_data"
    }
   ],
   "source": [
    "x=c(\"ggplot2\",\"corrgram\",\"DMwR\",\"caret\",\"randomForest\",\"unbalanced\",\"C50\",\"inTrees\",\n",
    "    \"dummies\",\"e1071\",\"Information\",\"MASS\",\"rpart\",\"gbm\",\"ROSE\",\"sampling\",\"RRF\")\n",
    "lapply(x,require,character.only = TRUE)\n",
    "rm(x)"
   ]
  },
  {
   "cell_type": "code",
   "execution_count": 5,
   "metadata": {},
   "outputs": [
    {
     "data": {
      "text/html": [
       "<style>\n",
       ".list-inline {list-style: none; margin:0; padding: 0}\n",
       ".list-inline>li {display: inline-block}\n",
       ".list-inline>li:not(:last-child)::after {content: \"\\00b7\"; padding: 0 .5ex}\n",
       "</style>\n",
       "<ol class=list-inline><li>'age'</li><li>'ed'</li><li>'employ'</li><li>'address'</li><li>'income'</li><li>'debtinc'</li><li>'creddebt'</li><li>'othdebt'</li><li>'default'</li></ol>\n"
      ],
      "text/latex": [
       "\\begin{enumerate*}\n",
       "\\item 'age'\n",
       "\\item 'ed'\n",
       "\\item 'employ'\n",
       "\\item 'address'\n",
       "\\item 'income'\n",
       "\\item 'debtinc'\n",
       "\\item 'creddebt'\n",
       "\\item 'othdebt'\n",
       "\\item 'default'\n",
       "\\end{enumerate*}\n"
      ],
      "text/markdown": [
       "1. 'age'\n",
       "2. 'ed'\n",
       "3. 'employ'\n",
       "4. 'address'\n",
       "5. 'income'\n",
       "6. 'debtinc'\n",
       "7. 'creddebt'\n",
       "8. 'othdebt'\n",
       "9. 'default'\n",
       "\n",
       "\n"
      ],
      "text/plain": [
       "[1] \"age\"      \"ed\"       \"employ\"   \"address\"  \"income\"   \"debtinc\"  \"creddebt\"\n",
       "[8] \"othdebt\"  \"default\" "
      ]
     },
     "metadata": {},
     "output_type": "display_data"
    },
    {
     "data": {
      "text/html": [
       "151"
      ],
      "text/latex": [
       "151"
      ],
      "text/markdown": [
       "151"
      ],
      "text/plain": [
       "[1] 151"
      ]
     },
     "metadata": {},
     "output_type": "display_data"
    }
   ],
   "source": [
    "names(bld)\n",
    "sum(is.na(bld$default))\n",
    "bld$default = as.factor(bld$default)"
   ]
  },
  {
   "cell_type": "code",
   "execution_count": 6,
   "metadata": {},
   "outputs": [
    {
     "name": "stdout",
     "output_type": "stream",
     "text": [
      "'data.frame':\t851 obs. of  9 variables:\n",
      " $ age     : int  41 27 40 41 24 41 39 43 24 36 ...\n",
      " $ ed      : int  3 1 1 1 2 2 1 1 1 1 ...\n",
      " $ employ  : int  17 10 15 15 2 5 20 12 3 0 ...\n",
      " $ address : int  12 6 14 14 0 5 9 11 4 13 ...\n",
      " $ income  : int  176 31 55 120 28 25 67 38 19 25 ...\n",
      " $ debtinc : num  9.3 17.3 5.5 2.9 17.3 10.2 30.6 3.6 24.4 19.7 ...\n",
      " $ creddebt: num  11.359 1.362 0.856 2.659 1.787 ...\n",
      " $ othdebt : num  5.009 4.001 2.169 0.821 3.057 ...\n",
      " $ default : Factor w/ 2 levels \"0\",\"1\": 2 1 1 1 2 1 1 1 2 1 ...\n"
     ]
    }
   ],
   "source": [
    "bld = knnImputation(bld ,k=3)\n",
    "str(bld)"
   ]
  },
  {
   "cell_type": "code",
   "execution_count": 7,
   "metadata": {},
   "outputs": [
    {
     "name": "stdout",
     "output_type": "stream",
     "text": [
      "'data.frame':\t851 obs. of  9 variables:\n",
      " $ age     : int  41 27 40 41 24 41 39 43 24 36 ...\n",
      " $ ed      : Factor w/ 5 levels \"1\",\"2\",\"3\",\"4\",..: 3 1 1 1 2 2 1 1 1 1 ...\n",
      " $ employ  : int  17 10 15 15 2 5 20 12 3 0 ...\n",
      " $ address : int  12 6 14 14 0 5 9 11 4 13 ...\n",
      " $ income  : int  176 31 55 120 28 25 67 38 19 25 ...\n",
      " $ debtinc : num  9.3 17.3 5.5 2.9 17.3 10.2 30.6 3.6 24.4 19.7 ...\n",
      " $ creddebt: num  11.359 1.362 0.856 2.659 1.787 ...\n",
      " $ othdebt : num  5.009 4.001 2.169 0.821 3.057 ...\n",
      " $ default : Factor w/ 2 levels \"0\",\"1\": 2 1 1 1 2 1 1 1 2 1 ...\n"
     ]
    }
   ],
   "source": [
    "bld$ed = as.factor(bld$ed)\n",
    "str(bld)"
   ]
  },
  {
   "cell_type": "code",
   "execution_count": 8,
   "metadata": {},
   "outputs": [
    {
     "data": {
      "text/html": [
       "<style>\n",
       ".list-inline {list-style: none; margin:0; padding: 0}\n",
       ".list-inline>li {display: inline-block}\n",
       ".list-inline>li:not(:last-child)::after {content: \"\\00b7\"; padding: 0 .5ex}\n",
       "</style>\n",
       "<ol class=list-inline><li>'age'</li><li>'employ'</li><li>'address'</li><li>'income'</li><li>'debtinc'</li><li>'creddebt'</li><li>'othdebt'</li></ol>\n"
      ],
      "text/latex": [
       "\\begin{enumerate*}\n",
       "\\item 'age'\n",
       "\\item 'employ'\n",
       "\\item 'address'\n",
       "\\item 'income'\n",
       "\\item 'debtinc'\n",
       "\\item 'creddebt'\n",
       "\\item 'othdebt'\n",
       "\\end{enumerate*}\n"
      ],
      "text/markdown": [
       "1. 'age'\n",
       "2. 'employ'\n",
       "3. 'address'\n",
       "4. 'income'\n",
       "5. 'debtinc'\n",
       "6. 'creddebt'\n",
       "7. 'othdebt'\n",
       "\n",
       "\n"
      ],
      "text/plain": [
       "[1] \"age\"      \"employ\"   \"address\"  \"income\"   \"debtinc\"  \"creddebt\" \"othdebt\" "
      ]
     },
     "metadata": {},
     "output_type": "display_data"
    },
    {
     "data": {
      "image/png": "[encoded data removed]",
      "text/plain": [
       "plot without title"
      ]
     },
     "metadata": {
      "image/png": {
       "height": 420,
       "width": 420
      },
      "text/plain": {
       "height": 420,
       "width": 420
      }
     },
     "output_type": "display_data"
    },
    {
     "data": {
      "image/png": "[encoded data removed]",
      "text/plain": [
       "plot without title"
      ]
     },
     "metadata": {
      "image/png": {
       "height": 420,
       "width": 420
      },
      "text/plain": {
       "height": 420,
       "width": 420
      }
     },
     "output_type": "display_data"
    }
   ],
   "source": [
    "#(1).Box plot\n",
    "\n",
    "numeric_index = sapply(bld ,is.numeric)\n",
    "numeric_data = bld[,numeric_index]\n",
    "cnames = colnames(numeric_data)\n",
    "cnames\n",
    "for(i in 1:length(cnames))\n",
    "{\n",
    "  assign(paste0(\"gn\",i), ggplot(aes_string(y = (cnames[i]), x = \"default\"), data = subset(bld))+\n",
    "           stat_boxplot(geom = \"errorbar\" , width = 0.5)+\n",
    "           geom_boxplot(outlier.color=\"red\",fill =\"grey\",outlier.shape = 18,\n",
    "                        outlier.size=1,notch=FALSE)+\n",
    "           theme(legend.position=\"bottom\")+\n",
    "           labs(y=cnames[i],x=\"default\")+\n",
    "           ggtitle(paste(\"Box plot of default for\",cnames[i])))        \n",
    "}\n",
    "\n",
    "#Plotting plots together\n",
    "#fridExtra is library name\n",
    "gridExtra::grid.arrange(gn1,gn5,gn2,ncol=3)\n",
    "gridExtra::grid.arrange(gn6,gn7,ncol=2)\n",
    "# gridExtra::grid.arrange(gn8,gn9,ncol=2)\n"
   ]
  },
  {
   "cell_type": "markdown",
   "metadata": {},
   "source": [
    "## Outlier Analysis"
   ]
  },
  {
   "cell_type": "code",
   "execution_count": 9,
   "metadata": {},
   "outputs": [
    {
     "name": "stdout",
     "output_type": "stream",
     "text": [
      "[1] \"age\"\n",
      "[1] \"employ\"\n",
      "[1] \"address\"\n",
      "[1] \"income\"\n",
      "[1] \"debtinc\"\n",
      "[1] \"creddebt\"\n",
      "[1] \"othdebt\"\n",
      "'data.frame':\t851 obs. of  9 variables:\n",
      " $ age     : int  41 27 40 41 24 41 39 43 24 36 ...\n",
      " $ ed      : Factor w/ 5 levels \"1\",\"2\",\"3\",\"4\",..: 3 1 1 1 2 2 1 1 1 1 ...\n",
      " $ employ  : num  17 10 15 15 2 5 20 12 3 0 ...\n",
      " $ address : num  12 6 14 14 0 5 9 11 4 13 ...\n",
      " $ income  : num  63.9 31 55 58 28 ...\n",
      " $ debtinc : num  9.3 17.3 5.5 2.9 17.3 ...\n",
      " $ creddebt: num  0.687 1.362 0.856 2.659 1.787 ...\n",
      " $ othdebt : num  5.009 4.001 2.169 0.821 3.057 ...\n",
      " $ default : Factor w/ 2 levels \"0\",\"1\": 2 1 1 1 2 1 1 1 2 1 ...\n"
     ]
    },
    {
     "data": {
      "text/html": [
       "0"
      ],
      "text/latex": [
       "0"
      ],
      "text/markdown": [
       "0"
      ],
      "text/plain": [
       "[1] 0"
      ]
     },
     "metadata": {},
     "output_type": "display_data"
    },
    {
     "data": {
      "text/html": [
       "<table>\n",
       "<caption>A data.frame: 6 × 9</caption>\n",
       "<thead>\n",
       "\t<tr><th></th><th scope=col>age</th><th scope=col>ed</th><th scope=col>employ</th><th scope=col>address</th><th scope=col>income</th><th scope=col>debtinc</th><th scope=col>creddebt</th><th scope=col>othdebt</th><th scope=col>default</th></tr>\n",
       "\t<tr><th></th><th scope=col>&lt;int&gt;</th><th scope=col>&lt;fct&gt;</th><th scope=col>&lt;dbl&gt;</th><th scope=col>&lt;dbl&gt;</th><th scope=col>&lt;dbl&gt;</th><th scope=col>&lt;dbl&gt;</th><th scope=col>&lt;dbl&gt;</th><th scope=col>&lt;dbl&gt;</th><th scope=col>&lt;fct&gt;</th></tr>\n",
       "</thead>\n",
       "<tbody>\n",
       "\t<tr><th scope=row>1</th><td>41</td><td>3</td><td>17</td><td>12</td><td>63.9349</td><td> 9.3</td><td>0.6873045</td><td>5.008608</td><td>1</td></tr>\n",
       "\t<tr><th scope=row>2</th><td>27</td><td>1</td><td>10</td><td> 6</td><td>31.0000</td><td>17.3</td><td>1.3622020</td><td>4.000798</td><td>0</td></tr>\n",
       "\t<tr><th scope=row>3</th><td>40</td><td>1</td><td>15</td><td>14</td><td>55.0000</td><td> 5.5</td><td>0.8560750</td><td>2.168925</td><td>0</td></tr>\n",
       "\t<tr><th scope=row>4</th><td>41</td><td>1</td><td>15</td><td>14</td><td>57.9917</td><td> 2.9</td><td>2.6587200</td><td>0.821280</td><td>0</td></tr>\n",
       "\t<tr><th scope=row>5</th><td>24</td><td>2</td><td> 2</td><td> 0</td><td>28.0000</td><td>17.3</td><td>1.7874360</td><td>3.056564</td><td>1</td></tr>\n",
       "\t<tr><th scope=row>6</th><td>41</td><td>2</td><td> 5</td><td> 5</td><td>25.0000</td><td>10.2</td><td>0.3927000</td><td>2.157300</td><td>0</td></tr>\n",
       "</tbody>\n",
       "</table>\n"
      ],
      "text/latex": [
       "A data.frame: 6 × 9\n",
       "\\begin{tabular}{r|lllllllll}\n",
       "  & age & ed & employ & address & income & debtinc & creddebt & othdebt & default\\\\\n",
       "  & <int> & <fct> & <dbl> & <dbl> & <dbl> & <dbl> & <dbl> & <dbl> & <fct>\\\\\n",
       "\\hline\n",
       "\t1 & 41 & 3 & 17 & 12 & 63.9349 &  9.3 & 0.6873045 & 5.008608 & 1\\\\\n",
       "\t2 & 27 & 1 & 10 &  6 & 31.0000 & 17.3 & 1.3622020 & 4.000798 & 0\\\\\n",
       "\t3 & 40 & 1 & 15 & 14 & 55.0000 &  5.5 & 0.8560750 & 2.168925 & 0\\\\\n",
       "\t4 & 41 & 1 & 15 & 14 & 57.9917 &  2.9 & 2.6587200 & 0.821280 & 0\\\\\n",
       "\t5 & 24 & 2 &  2 &  0 & 28.0000 & 17.3 & 1.7874360 & 3.056564 & 1\\\\\n",
       "\t6 & 41 & 2 &  5 &  5 & 25.0000 & 10.2 & 0.3927000 & 2.157300 & 0\\\\\n",
       "\\end{tabular}\n"
      ],
      "text/markdown": [
       "\n",
       "A data.frame: 6 × 9\n",
       "\n",
       "| <!--/--> | age &lt;int&gt; | ed &lt;fct&gt; | employ &lt;dbl&gt; | address &lt;dbl&gt; | income &lt;dbl&gt; | debtinc &lt;dbl&gt; | creddebt &lt;dbl&gt; | othdebt &lt;dbl&gt; | default &lt;fct&gt; |\n",
       "|---|---|---|---|---|---|---|---|---|---|\n",
       "| 1 | 41 | 3 | 17 | 12 | 63.9349 |  9.3 | 0.6873045 | 5.008608 | 1 |\n",
       "| 2 | 27 | 1 | 10 |  6 | 31.0000 | 17.3 | 1.3622020 | 4.000798 | 0 |\n",
       "| 3 | 40 | 1 | 15 | 14 | 55.0000 |  5.5 | 0.8560750 | 2.168925 | 0 |\n",
       "| 4 | 41 | 1 | 15 | 14 | 57.9917 |  2.9 | 2.6587200 | 0.821280 | 0 |\n",
       "| 5 | 24 | 2 |  2 |  0 | 28.0000 | 17.3 | 1.7874360 | 3.056564 | 1 |\n",
       "| 6 | 41 | 2 |  5 |  5 | 25.0000 | 10.2 | 0.3927000 | 2.157300 | 0 |\n",
       "\n"
      ],
      "text/plain": [
       "  age ed employ address income  debtinc creddebt  othdebt  default\n",
       "1 41  3  17     12      63.9349  9.3    0.6873045 5.008608 1      \n",
       "2 27  1  10      6      31.0000 17.3    1.3622020 4.000798 0      \n",
       "3 40  1  15     14      55.0000  5.5    0.8560750 2.168925 0      \n",
       "4 41  1  15     14      57.9917  2.9    2.6587200 0.821280 0      \n",
       "5 24  2   2      0      28.0000 17.3    1.7874360 3.056564 1      \n",
       "6 41  2   5      5      25.0000 10.2    0.3927000 2.157300 0      "
      ]
     },
     "metadata": {},
     "output_type": "display_data"
    }
   ],
   "source": [
    "numeric_index = sapply(bld ,is.numeric)\n",
    "\n",
    "numeric_data = bld[,numeric_index]\n",
    "cnames = colnames(numeric_data)\n",
    "\n",
    "for(i in cnames)\n",
    "{\n",
    "  print(i)\n",
    "  val = bld[,i][bld[,i] %in% boxplot.stats(bld[,i])$out]\n",
    "  \n",
    "  # Put NA in the place of outliers and Impute.    \n",
    "  bld[,i][bld[,i] %in% val] = NA    \n",
    "  \n",
    "  # Remove the outliers.\n",
    "#   bld = bld[which(!bld[,i] %in% val),]\n",
    "  \n",
    "} \n",
    "\n",
    "\n",
    "bld = knnImputation(bld, k = 3)\n",
    "str(bld)\n",
    "sum(is.na(bld))\n",
    "# levels(bld$ed)\n",
    "head(bld)"
   ]
  },
  {
   "cell_type": "code",
   "execution_count": 10,
   "metadata": {},
   "outputs": [
    {
     "name": "stdout",
     "output_type": "stream",
     "text": [
      "'data.frame':\t851 obs. of  9 variables:\n",
      " $ age     : int  41 27 40 41 24 41 39 43 24 36 ...\n",
      " $ ed      : Factor w/ 5 levels \"1\",\"2\",\"3\",\"4\",..: 3 1 1 1 2 2 1 1 1 1 ...\n",
      " $ employ  : num  17 10 15 15 2 5 20 12 3 0 ...\n",
      " $ address : num  12 6 14 14 0 5 9 11 4 13 ...\n",
      " $ income  : num  63.9 31 55 58 28 ...\n",
      " $ debtinc : num  9.3 17.3 5.5 2.9 17.3 ...\n",
      " $ creddebt: num  0.687 1.362 0.856 2.659 1.787 ...\n",
      " $ othdebt : num  5.009 4.001 2.169 0.821 3.057 ...\n",
      " $ default : Factor w/ 2 levels \"0\",\"1\": 2 1 1 1 2 1 1 1 2 1 ...\n"
     ]
    }
   ],
   "source": [
    "str(bld)"
   ]
  },
  {
   "cell_type": "code",
   "execution_count": 11,
   "metadata": {},
   "outputs": [
    {
     "data": {
      "text/html": [
       "51"
      ],
      "text/latex": [
       "51"
      ],
      "text/markdown": [
       "51"
      ],
      "text/plain": [
       "[1] 51"
      ]
     },
     "metadata": {},
     "output_type": "display_data"
    },
    {
     "data": {
      "text/html": [
       "1"
      ],
      "text/latex": [
       "1"
      ],
      "text/markdown": [
       "1"
      ],
      "text/plain": [
       "[1] 1"
      ]
     },
     "metadata": {},
     "output_type": "display_data"
    },
    {
     "name": "stdout",
     "output_type": "stream",
     "text": [
      "'data.frame':\t851 obs. of  9 variables:\n",
      " $ age     : int  41 27 40 41 24 41 39 43 24 36 ...\n",
      " $ ed      : Factor w/ 5 levels \"1\",\"2\",\"3\",\"4\",..: 3 1 1 1 2 2 1 1 1 1 ...\n",
      " $ employ  : num  17 10 15 15 2 5 20 12 3 0 ...\n",
      " $ address : num  12 6 14 14 0 5 9 11 4 13 ...\n",
      " $ income  : num  63.9 31 55 58 28 ...\n",
      " $ debtinc : num  9.3 17.3 5.5 2.9 17.3 ...\n",
      " $ creddebt: num  0.687 1.362 0.856 2.659 1.787 ...\n",
      " $ othdebt : num  5.009 4.001 2.169 0.821 3.057 ...\n",
      " $ default : Factor w/ 2 levels \"0\",\"1\": 2 1 1 1 2 1 1 1 2 1 ...\n"
     ]
    },
    {
     "data": {
      "text/html": [
       "<table>\n",
       "<caption>A data.frame: 6 × 9</caption>\n",
       "<thead>\n",
       "\t<tr><th></th><th scope=col>age</th><th scope=col>ed</th><th scope=col>employ</th><th scope=col>address</th><th scope=col>income</th><th scope=col>debtinc</th><th scope=col>creddebt</th><th scope=col>othdebt</th><th scope=col>default</th></tr>\n",
       "\t<tr><th></th><th scope=col>&lt;int&gt;</th><th scope=col>&lt;fct&gt;</th><th scope=col>&lt;dbl&gt;</th><th scope=col>&lt;dbl&gt;</th><th scope=col>&lt;dbl&gt;</th><th scope=col>&lt;dbl&gt;</th><th scope=col>&lt;dbl&gt;</th><th scope=col>&lt;dbl&gt;</th><th scope=col>&lt;fct&gt;</th></tr>\n",
       "</thead>\n",
       "<tbody>\n",
       "\t<tr><th scope=row>1</th><td>41</td><td>3</td><td>17</td><td>12</td><td>63.9349</td><td> 9.3</td><td>0.6873045</td><td>5.008608</td><td>1</td></tr>\n",
       "\t<tr><th scope=row>2</th><td>27</td><td>1</td><td>10</td><td> 6</td><td>31.0000</td><td>17.3</td><td>1.3622020</td><td>4.000798</td><td>0</td></tr>\n",
       "\t<tr><th scope=row>3</th><td>40</td><td>1</td><td>15</td><td>14</td><td>55.0000</td><td> 5.5</td><td>0.8560750</td><td>2.168925</td><td>0</td></tr>\n",
       "\t<tr><th scope=row>4</th><td>41</td><td>1</td><td>15</td><td>14</td><td>57.9917</td><td> 2.9</td><td>2.6587200</td><td>0.821280</td><td>0</td></tr>\n",
       "\t<tr><th scope=row>5</th><td>24</td><td>2</td><td> 2</td><td> 0</td><td>28.0000</td><td>17.3</td><td>1.7874360</td><td>3.056564</td><td>1</td></tr>\n",
       "\t<tr><th scope=row>6</th><td>41</td><td>2</td><td> 5</td><td> 5</td><td>25.0000</td><td>10.2</td><td>0.3927000</td><td>2.157300</td><td>0</td></tr>\n",
       "</tbody>\n",
       "</table>\n"
      ],
      "text/latex": [
       "A data.frame: 6 × 9\n",
       "\\begin{tabular}{r|lllllllll}\n",
       "  & age & ed & employ & address & income & debtinc & creddebt & othdebt & default\\\\\n",
       "  & <int> & <fct> & <dbl> & <dbl> & <dbl> & <dbl> & <dbl> & <dbl> & <fct>\\\\\n",
       "\\hline\n",
       "\t1 & 41 & 3 & 17 & 12 & 63.9349 &  9.3 & 0.6873045 & 5.008608 & 1\\\\\n",
       "\t2 & 27 & 1 & 10 &  6 & 31.0000 & 17.3 & 1.3622020 & 4.000798 & 0\\\\\n",
       "\t3 & 40 & 1 & 15 & 14 & 55.0000 &  5.5 & 0.8560750 & 2.168925 & 0\\\\\n",
       "\t4 & 41 & 1 & 15 & 14 & 57.9917 &  2.9 & 2.6587200 & 0.821280 & 0\\\\\n",
       "\t5 & 24 & 2 &  2 &  0 & 28.0000 & 17.3 & 1.7874360 & 3.056564 & 1\\\\\n",
       "\t6 & 41 & 2 &  5 &  5 & 25.0000 & 10.2 & 0.3927000 & 2.157300 & 0\\\\\n",
       "\\end{tabular}\n"
      ],
      "text/markdown": [
       "\n",
       "A data.frame: 6 × 9\n",
       "\n",
       "| <!--/--> | age &lt;int&gt; | ed &lt;fct&gt; | employ &lt;dbl&gt; | address &lt;dbl&gt; | income &lt;dbl&gt; | debtinc &lt;dbl&gt; | creddebt &lt;dbl&gt; | othdebt &lt;dbl&gt; | default &lt;fct&gt; |\n",
       "|---|---|---|---|---|---|---|---|---|---|\n",
       "| 1 | 41 | 3 | 17 | 12 | 63.9349 |  9.3 | 0.6873045 | 5.008608 | 1 |\n",
       "| 2 | 27 | 1 | 10 |  6 | 31.0000 | 17.3 | 1.3622020 | 4.000798 | 0 |\n",
       "| 3 | 40 | 1 | 15 | 14 | 55.0000 |  5.5 | 0.8560750 | 2.168925 | 0 |\n",
       "| 4 | 41 | 1 | 15 | 14 | 57.9917 |  2.9 | 2.6587200 | 0.821280 | 0 |\n",
       "| 5 | 24 | 2 |  2 |  0 | 28.0000 | 17.3 | 1.7874360 | 3.056564 | 1 |\n",
       "| 6 | 41 | 2 |  5 |  5 | 25.0000 | 10.2 | 0.3927000 | 2.157300 | 0 |\n",
       "\n"
      ],
      "text/plain": [
       "  age ed employ address income  debtinc creddebt  othdebt  default\n",
       "1 41  3  17     12      63.9349  9.3    0.6873045 5.008608 1      \n",
       "2 27  1  10      6      31.0000 17.3    1.3622020 4.000798 0      \n",
       "3 40  1  15     14      55.0000  5.5    0.8560750 2.168925 0      \n",
       "4 41  1  15     14      57.9917  2.9    2.6587200 0.821280 0      \n",
       "5 24  2   2      0      28.0000 17.3    1.7874360 3.056564 1      \n",
       "6 41  2   5      5      25.0000 10.2    0.3927000 2.157300 0      "
      ]
     },
     "metadata": {},
     "output_type": "display_data"
    }
   ],
   "source": [
    "d=which(bld$employ >= 20)\n",
    "# d # returns indexes\n",
    "count = 0\n",
    "for (x in d)\n",
    "{\n",
    "    if (bld[x,'default']==1)\n",
    "        count= count +1\n",
    "#         cat(x,bld[x,'default'],\"\\n\")    \n",
    "}\n",
    "sum(bld$employ >= 20)\n",
    "count\n",
    "# bld <- bld[-c(d), ]\n",
    "# for (x in d)\n",
    "# {\n",
    "#     bld=bld[-x,]\n",
    "# }\n",
    "str(bld)\n",
    "\n",
    "head(bld)"
   ]
  },
  {
   "cell_type": "markdown",
   "metadata": {},
   "source": [
    "## For Feature Scaling"
   ]
  },
  {
   "cell_type": "code",
   "execution_count": 12,
   "metadata": {},
   "outputs": [
    {
     "data": {
      "image/png": "[encoded data removed]",
      "text/plain": [
       "Plot with title \"age\""
      ]
     },
     "metadata": {
      "image/png": {
       "height": 420,
       "width": 420
      },
      "text/plain": {
       "height": 420,
       "width": 420
      }
     },
     "output_type": "display_data"
    },
    {
     "data": {
      "image/png": "[encoded data removed]",
      "text/plain": [
       "Plot with title \"ed\""
      ]
     },
     "metadata": {
      "image/png": {
       "height": 420,
       "width": 420
      },
      "text/plain": {
       "height": 420,
       "width": 420
      }
     },
     "output_type": "display_data"
    },
    {
     "data": {
      "image/png": "[encoded data removed]",
      "text/plain": [
       "Plot with title \"employ\""
      ]
     },
     "metadata": {
      "image/png": {
       "height": 420,
       "width": 420
      },
      "text/plain": {
       "height": 420,
       "width": 420
      }
     },
     "output_type": "display_data"
    },
    {
     "data": {
      "image/png": "[encoded data removed]",
      "text/plain": [
       "Plot with title \"address\""
      ]
     },
     "metadata": {
      "image/png": {
       "height": 420,
       "width": 420
      },
      "text/plain": {
       "height": 420,
       "width": 420
      }
     },
     "output_type": "display_data"
    },
    {
     "data": {
      "image/png": "[encoded data removed]",
      "text/plain": [
       "Plot with title \"income\""
      ]
     },
     "metadata": {
      "image/png": {
       "height": 420,
       "width": 420
      },
      "text/plain": {
       "height": 420,
       "width": 420
      }
     },
     "output_type": "display_data"
    },
    {
     "data": {
      "image/png": "[encoded data removed]",
      "text/plain": [
       "Plot with title \"debtinc\""
      ]
     },
     "metadata": {
      "image/png": {
       "height": 420,
       "width": 420
      },
      "text/plain": {
       "height": 420,
       "width": 420
      }
     },
     "output_type": "display_data"
    },
    {
     "data": {
      "image/png": "[encoded data removed]",
      "text/plain": [
       "Plot with title \"creddebt\""
      ]
     },
     "metadata": {
      "image/png": {
       "height": 420,
       "width": 420
      },
      "text/plain": {
       "height": 420,
       "width": 420
      }
     },
     "output_type": "display_data"
    },
    {
     "data": {
      "text/html": [
       "<table>\n",
       "<caption>A data.frame: 6 × 9</caption>\n",
       "<thead>\n",
       "\t<tr><th></th><th scope=col>age</th><th scope=col>ed</th><th scope=col>employ</th><th scope=col>address</th><th scope=col>income</th><th scope=col>debtinc</th><th scope=col>creddebt</th><th scope=col>othdebt</th><th scope=col>default</th></tr>\n",
       "\t<tr><th></th><th scope=col>&lt;int&gt;</th><th scope=col>&lt;fct&gt;</th><th scope=col>&lt;dbl&gt;</th><th scope=col>&lt;dbl&gt;</th><th scope=col>&lt;dbl&gt;</th><th scope=col>&lt;dbl&gt;</th><th scope=col>&lt;dbl&gt;</th><th scope=col>&lt;dbl&gt;</th><th scope=col>&lt;fct&gt;</th></tr>\n",
       "</thead>\n",
       "<tbody>\n",
       "\t<tr><th scope=row>1</th><td>41</td><td>3</td><td>17</td><td>12</td><td>63.9349</td><td> 9.3</td><td>0.6873045</td><td>5.008608</td><td>1</td></tr>\n",
       "\t<tr><th scope=row>2</th><td>27</td><td>1</td><td>10</td><td> 6</td><td>31.0000</td><td>17.3</td><td>1.3622020</td><td>4.000798</td><td>0</td></tr>\n",
       "\t<tr><th scope=row>3</th><td>40</td><td>1</td><td>15</td><td>14</td><td>55.0000</td><td> 5.5</td><td>0.8560750</td><td>2.168925</td><td>0</td></tr>\n",
       "\t<tr><th scope=row>4</th><td>41</td><td>1</td><td>15</td><td>14</td><td>57.9917</td><td> 2.9</td><td>2.6587200</td><td>0.821280</td><td>0</td></tr>\n",
       "\t<tr><th scope=row>5</th><td>24</td><td>2</td><td> 2</td><td> 0</td><td>28.0000</td><td>17.3</td><td>1.7874360</td><td>3.056564</td><td>1</td></tr>\n",
       "\t<tr><th scope=row>6</th><td>41</td><td>2</td><td> 5</td><td> 5</td><td>25.0000</td><td>10.2</td><td>0.3927000</td><td>2.157300</td><td>0</td></tr>\n",
       "</tbody>\n",
       "</table>\n"
      ],
      "text/latex": [
       "A data.frame: 6 × 9\n",
       "\\begin{tabular}{r|lllllllll}\n",
       "  & age & ed & employ & address & income & debtinc & creddebt & othdebt & default\\\\\n",
       "  & <int> & <fct> & <dbl> & <dbl> & <dbl> & <dbl> & <dbl> & <dbl> & <fct>\\\\\n",
       "\\hline\n",
       "\t1 & 41 & 3 & 17 & 12 & 63.9349 &  9.3 & 0.6873045 & 5.008608 & 1\\\\\n",
       "\t2 & 27 & 1 & 10 &  6 & 31.0000 & 17.3 & 1.3622020 & 4.000798 & 0\\\\\n",
       "\t3 & 40 & 1 & 15 & 14 & 55.0000 &  5.5 & 0.8560750 & 2.168925 & 0\\\\\n",
       "\t4 & 41 & 1 & 15 & 14 & 57.9917 &  2.9 & 2.6587200 & 0.821280 & 0\\\\\n",
       "\t5 & 24 & 2 &  2 &  0 & 28.0000 & 17.3 & 1.7874360 & 3.056564 & 1\\\\\n",
       "\t6 & 41 & 2 &  5 &  5 & 25.0000 & 10.2 & 0.3927000 & 2.157300 & 0\\\\\n",
       "\\end{tabular}\n"
      ],
      "text/markdown": [
       "\n",
       "A data.frame: 6 × 9\n",
       "\n",
       "| <!--/--> | age &lt;int&gt; | ed &lt;fct&gt; | employ &lt;dbl&gt; | address &lt;dbl&gt; | income &lt;dbl&gt; | debtinc &lt;dbl&gt; | creddebt &lt;dbl&gt; | othdebt &lt;dbl&gt; | default &lt;fct&gt; |\n",
       "|---|---|---|---|---|---|---|---|---|---|\n",
       "| 1 | 41 | 3 | 17 | 12 | 63.9349 |  9.3 | 0.6873045 | 5.008608 | 1 |\n",
       "| 2 | 27 | 1 | 10 |  6 | 31.0000 | 17.3 | 1.3622020 | 4.000798 | 0 |\n",
       "| 3 | 40 | 1 | 15 | 14 | 55.0000 |  5.5 | 0.8560750 | 2.168925 | 0 |\n",
       "| 4 | 41 | 1 | 15 | 14 | 57.9917 |  2.9 | 2.6587200 | 0.821280 | 0 |\n",
       "| 5 | 24 | 2 |  2 |  0 | 28.0000 | 17.3 | 1.7874360 | 3.056564 | 1 |\n",
       "| 6 | 41 | 2 |  5 |  5 | 25.0000 | 10.2 | 0.3927000 | 2.157300 | 0 |\n",
       "\n"
      ],
      "text/plain": [
       "  age ed employ address income  debtinc creddebt  othdebt  default\n",
       "1 41  3  17     12      63.9349  9.3    0.6873045 5.008608 1      \n",
       "2 27  1  10      6      31.0000 17.3    1.3622020 4.000798 0      \n",
       "3 40  1  15     14      55.0000  5.5    0.8560750 2.168925 0      \n",
       "4 41  1  15     14      57.9917  2.9    2.6587200 0.821280 0      \n",
       "5 24  2   2      0      28.0000 17.3    1.7874360 3.056564 1      \n",
       "6 41  2   5      5      25.0000 10.2    0.3927000 2.157300 0      "
      ]
     },
     "metadata": {},
     "output_type": "display_data"
    },
    {
     "name": "stdout",
     "output_type": "stream",
     "text": [
      "'data.frame':\t851 obs. of  9 variables:\n",
      " $ age     : int  41 27 40 41 24 41 39 43 24 36 ...\n",
      " $ ed      : Factor w/ 5 levels \"1\",\"2\",\"3\",\"4\",..: 3 1 1 1 2 2 1 1 1 1 ...\n",
      " $ employ  : num  17 10 15 15 2 5 20 12 3 0 ...\n",
      " $ address : num  12 6 14 14 0 5 9 11 4 13 ...\n",
      " $ income  : num  63.9 31 55 58 28 ...\n",
      " $ debtinc : num  9.3 17.3 5.5 2.9 17.3 ...\n",
      " $ creddebt: num  0.687 1.362 0.856 2.659 1.787 ...\n",
      " $ othdebt : num  5.009 4.001 2.169 0.821 3.057 ...\n",
      " $ default : Factor w/ 2 levels \"0\",\"1\": 2 1 1 1 2 1 1 1 2 1 ...\n"
     ]
    },
    {
     "data": {
      "image/png": "[encoded data removed]",
      "text/plain": [
       "Plot with title \"othdebt\""
      ]
     },
     "metadata": {
      "image/png": {
       "height": 420,
       "width": 420
      },
      "text/plain": {
       "height": 420,
       "width": 420
      }
     },
     "output_type": "display_data"
    }
   ],
   "source": [
    "# Histograms to check how the data is spreaded.\n",
    "bld$ed=as.numeric(bld$ed)\n",
    "\n",
    "cols=c('age','ed','employ','address','income','debtinc','creddebt','othdebt')\n",
    "for(i in 1:(length(cols)))\n",
    "{\n",
    "    hist(bld[,i], xlab = cols[i],main = cols[i])\n",
    "}    \n",
    "\n",
    "bld$ed=as.factor(bld$ed)\n",
    "head(bld)\n",
    "str(bld)"
   ]
  },
  {
   "cell_type": "code",
   "execution_count": 13,
   "metadata": {},
   "outputs": [
    {
     "data": {
      "text/html": [
       "<style>\n",
       ".list-inline {list-style: none; margin:0; padding: 0}\n",
       ".list-inline>li {display: inline-block}\n",
       ".list-inline>li:not(:last-child)::after {content: \"\\00b7\"; padding: 0 .5ex}\n",
       "</style>\n",
       "<ol class=list-inline><li>3</li><li>1</li><li>1</li><li>1</li><li>2</li><li>2</li><li>1</li><li>1</li><li>1</li><li>1</li><li>1</li><li>1</li><li>1</li><li>1</li><li>1</li><li>2</li><li>2</li><li>1</li><li>1</li><li>3</li><li>1</li><li>1</li><li>1</li><li>1</li><li>2</li><li>4</li><li>2</li><li>1</li><li>2</li><li>3</li><li>1</li><li>1</li><li>3</li><li>1</li><li>1</li><li>2</li><li>2</li><li>2</li><li>2</li><li>1</li><li>1</li><li>1</li><li>2</li><li>1</li><li>1</li><li>2</li><li>1</li><li>1</li><li>2</li><li>1</li><li>1</li><li>1</li><li>1</li><li>3</li><li>2</li><li>1</li><li>1</li><li>2</li><li>3</li><li>3</li><li>1</li><li>1</li><li>1</li><li>2</li><li>2</li><li>2</li><li>2</li><li>1</li><li>2</li><li>1</li><li>2</li><li>2</li><li>1</li><li>4</li><li>1</li><li>1</li><li>1</li><li>1</li><li>1</li><li>1</li><li>1</li><li>1</li><li>1</li></ol>\n",
       "\n",
       "<details>\n",
       "\t<summary style=display:list-item;cursor:pointer>\n",
       "\t\t<strong>Levels</strong>:\n",
       "\t</summary>\n",
       "\t<style>\n",
       "\t.list-inline {list-style: none; margin:0; padding: 0}\n",
       "\t.list-inline>li {display: inline-block}\n",
       "\t.list-inline>li:not(:last-child)::after {content: \"\\00b7\"; padding: 0 .5ex}\n",
       "\t</style>\n",
       "\t<ol class=list-inline><li>'1'</li><li>'2'</li><li>'3'</li><li>'4'</li><li>'5'</li></ol>\n",
       "</details>"
      ],
      "text/latex": [
       "\\begin{enumerate*}\n",
       "\\item 3\n",
       "\\item 1\n",
       "\\item 1\n",
       "\\item 1\n",
       "\\item 2\n",
       "\\item 2\n",
       "\\item 1\n",
       "\\item 1\n",
       "\\item 1\n",
       "\\item 1\n",
       "\\item 1\n",
       "\\item 1\n",
       "\\item 1\n",
       "\\item 1\n",
       "\\item 1\n",
       "\\item 2\n",
       "\\item 2\n",
       "\\item 1\n",
       "\\item 1\n",
       "\\item 3\n",
       "\\item 1\n",
       "\\item 1\n",
       "\\item 1\n",
       "\\item 1\n",
       "\\item 2\n",
       "\\item 4\n",
       "\\item 2\n",
       "\\item 1\n",
       "\\item 2\n",
       "\\item 3\n",
       "\\item 1\n",
       "\\item 1\n",
       "\\item 3\n",
       "\\item 1\n",
       "\\item 1\n",
       "\\item 2\n",
       "\\item 2\n",
       "\\item 2\n",
       "\\item 2\n",
       "\\item 1\n",
       "\\item 1\n",
       "\\item 1\n",
       "\\item 2\n",
       "\\item 1\n",
       "\\item 1\n",
       "\\item 2\n",
       "\\item 1\n",
       "\\item 1\n",
       "\\item 2\n",
       "\\item 1\n",
       "\\item 1\n",
       "\\item 1\n",
       "\\item 1\n",
       "\\item 3\n",
       "\\item 2\n",
       "\\item 1\n",
       "\\item 1\n",
       "\\item 2\n",
       "\\item 3\n",
       "\\item 3\n",
       "\\item 1\n",
       "\\item 1\n",
       "\\item 1\n",
       "\\item 2\n",
       "\\item 2\n",
       "\\item 2\n",
       "\\item 2\n",
       "\\item 1\n",
       "\\item 2\n",
       "\\item 1\n",
       "\\item 2\n",
       "\\item 2\n",
       "\\item 1\n",
       "\\item 4\n",
       "\\item 1\n",
       "\\item 1\n",
       "\\item 1\n",
       "\\item 1\n",
       "\\item 1\n",
       "\\item 1\n",
       "\\item 1\n",
       "\\item 1\n",
       "\\item 1\n",
       "\\end{enumerate*}\n",
       "\n",
       "\\emph{Levels}: \\begin{enumerate*}\n",
       "\\item '1'\n",
       "\\item '2'\n",
       "\\item '3'\n",
       "\\item '4'\n",
       "\\item '5'\n",
       "\\end{enumerate*}\n"
      ],
      "text/markdown": [
       "1. 3\n",
       "2. 1\n",
       "3. 1\n",
       "4. 1\n",
       "5. 2\n",
       "6. 2\n",
       "7. 1\n",
       "8. 1\n",
       "9. 1\n",
       "10. 1\n",
       "11. 1\n",
       "12. 1\n",
       "13. 1\n",
       "14. 1\n",
       "15. 1\n",
       "16. 2\n",
       "17. 2\n",
       "18. 1\n",
       "19. 1\n",
       "20. 3\n",
       "21. 1\n",
       "22. 1\n",
       "23. 1\n",
       "24. 1\n",
       "25. 2\n",
       "26. 4\n",
       "27. 2\n",
       "28. 1\n",
       "29. 2\n",
       "30. 3\n",
       "31. 1\n",
       "32. 1\n",
       "33. 3\n",
       "34. 1\n",
       "35. 1\n",
       "36. 2\n",
       "37. 2\n",
       "38. 2\n",
       "39. 2\n",
       "40. 1\n",
       "41. 1\n",
       "42. 1\n",
       "43. 2\n",
       "44. 1\n",
       "45. 1\n",
       "46. 2\n",
       "47. 1\n",
       "48. 1\n",
       "49. 2\n",
       "50. 1\n",
       "51. 1\n",
       "52. 1\n",
       "53. 1\n",
       "54. 3\n",
       "55. 2\n",
       "56. 1\n",
       "57. 1\n",
       "58. 2\n",
       "59. 3\n",
       "60. 3\n",
       "61. 1\n",
       "62. 1\n",
       "63. 1\n",
       "64. 2\n",
       "65. 2\n",
       "66. 2\n",
       "67. 2\n",
       "68. 1\n",
       "69. 2\n",
       "70. 1\n",
       "71. 2\n",
       "72. 2\n",
       "73. 1\n",
       "74. 4\n",
       "75. 1\n",
       "76. 1\n",
       "77. 1\n",
       "78. 1\n",
       "79. 1\n",
       "80. 1\n",
       "81. 1\n",
       "82. 1\n",
       "83. 1\n",
       "\n",
       "\n",
       "\n",
       "**Levels**: 1. '1'\n",
       "2. '2'\n",
       "3. '3'\n",
       "4. '4'\n",
       "5. '5'\n",
       "\n",
       "\n"
      ],
      "text/plain": [
       " [1] 3 1 1 1 2 2 1 1 1 1 1 1 1 1 1 2 2 1 1 3 1 1 1 1 2 4 2 1 2 3 1 1 3 1 1 2 2 2\n",
       "[39] 2 1 1 1 2 1 1 2 1 1 2 1 1 1 1 3 2 1 1 2 3 3 1 1 1 2 2 2 2 1 2 1 2 2 1 4 1 1\n",
       "[77] 1 1 1 1 1 1 1\n",
       "Levels: 1 2 3 4 5"
      ]
     },
     "metadata": {},
     "output_type": "display_data"
    },
    {
     "name": "stdout",
     "output_type": "stream",
     "text": [
      "'data.frame':\t851 obs. of  9 variables:\n",
      " $ age     : int  41 27 40 41 24 41 39 43 24 36 ...\n",
      " $ ed      : Factor w/ 5 levels \"1\",\"2\",\"3\",\"4\",..: 3 1 1 1 2 2 1 1 1 1 ...\n",
      " $ employ  : num  17 10 15 15 2 5 20 12 3 0 ...\n",
      " $ address : num  12 6 14 14 0 5 9 11 4 13 ...\n",
      " $ income  : num  63.9 31 55 58 28 ...\n",
      " $ debtinc : num  9.3 17.3 5.5 2.9 17.3 ...\n",
      " $ creddebt: num  0.687 1.362 0.856 2.659 1.787 ...\n",
      " $ othdebt : num  5.009 4.001 2.169 0.821 3.057 ...\n",
      " $ default : Factor w/ 2 levels \"0\",\"1\": 2 1 1 1 2 1 1 1 2 1 ...\n"
     ]
    }
   ],
   "source": [
    "bld[1:83,'ed']\n",
    "str(bld)"
   ]
  },
  {
   "cell_type": "code",
   "execution_count": 14,
   "metadata": {
    "scrolled": false
   },
   "outputs": [
    {
     "name": "stdout",
     "output_type": "stream",
     "text": [
      "[1] \"age\"\n",
      "[1] \"employ\"\n",
      "[1] \"address\"\n",
      "[1] \"income\"\n",
      "[1] \"debtinc\"\n",
      "[1] \"creddebt\"\n",
      "[1] \"othdebt\"\n"
     ]
    },
    {
     "data": {
      "text/html": [
       "<table>\n",
       "<caption>A data.frame: 6 × 9</caption>\n",
       "<thead>\n",
       "\t<tr><th></th><th scope=col>age</th><th scope=col>ed</th><th scope=col>employ</th><th scope=col>address</th><th scope=col>income</th><th scope=col>debtinc</th><th scope=col>creddebt</th><th scope=col>othdebt</th><th scope=col>default</th></tr>\n",
       "\t<tr><th></th><th scope=col>&lt;dbl&gt;</th><th scope=col>&lt;fct&gt;</th><th scope=col>&lt;dbl&gt;</th><th scope=col>&lt;dbl&gt;</th><th scope=col>&lt;dbl&gt;</th><th scope=col>&lt;dbl&gt;</th><th scope=col>&lt;dbl&gt;</th><th scope=col>&lt;dbl&gt;</th><th scope=col>&lt;fct&gt;</th></tr>\n",
       "</thead>\n",
       "<tbody>\n",
       "\t<tr><th scope=row>1</th><td> 0.7418019</td><td>3</td><td> 1.3519224</td><td> 0.6212305</td><td> 1.1007367</td><td>-0.07736944</td><td>-0.4959268</td><td> 1.2654642</td><td>1</td></tr>\n",
       "\t<tr><th scope=row>2</th><td>-0.9996420</td><td>1</td><td> 0.2559313</td><td>-0.3275400</td><td>-0.4677743</td><td> 1.28070300</td><td> 0.2060214</td><td> 0.7465484</td><td>0</td></tr>\n",
       "\t<tr><th scope=row>3</th><td> 0.6174131</td><td>1</td><td> 1.0387821</td><td> 0.9374874</td><td> 0.6752159</td><td>-0.72245384</td><td>-0.3203918</td><td>-0.1966729</td><td>0</td></tr>\n",
       "\t<tr><th scope=row>4</th><td> 0.7418019</td><td>1</td><td> 1.0387821</td><td> 0.9374874</td><td> 0.8176942</td><td>-1.16382738</td><td> 1.5545054</td><td>-0.8905678</td><td>0</td></tr>\n",
       "\t<tr><th scope=row>5</th><td>-1.3728086</td><td>2</td><td>-0.9966301</td><td>-1.2763106</td><td>-0.6106480</td><td> 1.28070300</td><td> 0.6482993</td><td> 0.2603676</td><td>1</td></tr>\n",
       "\t<tr><th scope=row>6</th><td> 0.7418019</td><td>2</td><td>-0.5269196</td><td>-0.4856684</td><td>-0.7535218</td><td> 0.07541371</td><td>-0.8023394</td><td>-0.2026585</td><td>0</td></tr>\n",
       "</tbody>\n",
       "</table>\n"
      ],
      "text/latex": [
       "A data.frame: 6 × 9\n",
       "\\begin{tabular}{r|lllllllll}\n",
       "  & age & ed & employ & address & income & debtinc & creddebt & othdebt & default\\\\\n",
       "  & <dbl> & <fct> & <dbl> & <dbl> & <dbl> & <dbl> & <dbl> & <dbl> & <fct>\\\\\n",
       "\\hline\n",
       "\t1 &  0.7418019 & 3 &  1.3519224 &  0.6212305 &  1.1007367 & -0.07736944 & -0.4959268 &  1.2654642 & 1\\\\\n",
       "\t2 & -0.9996420 & 1 &  0.2559313 & -0.3275400 & -0.4677743 &  1.28070300 &  0.2060214 &  0.7465484 & 0\\\\\n",
       "\t3 &  0.6174131 & 1 &  1.0387821 &  0.9374874 &  0.6752159 & -0.72245384 & -0.3203918 & -0.1966729 & 0\\\\\n",
       "\t4 &  0.7418019 & 1 &  1.0387821 &  0.9374874 &  0.8176942 & -1.16382738 &  1.5545054 & -0.8905678 & 0\\\\\n",
       "\t5 & -1.3728086 & 2 & -0.9966301 & -1.2763106 & -0.6106480 &  1.28070300 &  0.6482993 &  0.2603676 & 1\\\\\n",
       "\t6 &  0.7418019 & 2 & -0.5269196 & -0.4856684 & -0.7535218 &  0.07541371 & -0.8023394 & -0.2026585 & 0\\\\\n",
       "\\end{tabular}\n"
      ],
      "text/markdown": [
       "\n",
       "A data.frame: 6 × 9\n",
       "\n",
       "| <!--/--> | age &lt;dbl&gt; | ed &lt;fct&gt; | employ &lt;dbl&gt; | address &lt;dbl&gt; | income &lt;dbl&gt; | debtinc &lt;dbl&gt; | creddebt &lt;dbl&gt; | othdebt &lt;dbl&gt; | default &lt;fct&gt; |\n",
       "|---|---|---|---|---|---|---|---|---|---|\n",
       "| 1 |  0.7418019 | 3 |  1.3519224 |  0.6212305 |  1.1007367 | -0.07736944 | -0.4959268 |  1.2654642 | 1 |\n",
       "| 2 | -0.9996420 | 1 |  0.2559313 | -0.3275400 | -0.4677743 |  1.28070300 |  0.2060214 |  0.7465484 | 0 |\n",
       "| 3 |  0.6174131 | 1 |  1.0387821 |  0.9374874 |  0.6752159 | -0.72245384 | -0.3203918 | -0.1966729 | 0 |\n",
       "| 4 |  0.7418019 | 1 |  1.0387821 |  0.9374874 |  0.8176942 | -1.16382738 |  1.5545054 | -0.8905678 | 0 |\n",
       "| 5 | -1.3728086 | 2 | -0.9966301 | -1.2763106 | -0.6106480 |  1.28070300 |  0.6482993 |  0.2603676 | 1 |\n",
       "| 6 |  0.7418019 | 2 | -0.5269196 | -0.4856684 | -0.7535218 |  0.07541371 | -0.8023394 | -0.2026585 | 0 |\n",
       "\n"
      ],
      "text/plain": [
       "  age        ed employ     address    income     debtinc     creddebt  \n",
       "1  0.7418019 3   1.3519224  0.6212305  1.1007367 -0.07736944 -0.4959268\n",
       "2 -0.9996420 1   0.2559313 -0.3275400 -0.4677743  1.28070300  0.2060214\n",
       "3  0.6174131 1   1.0387821  0.9374874  0.6752159 -0.72245384 -0.3203918\n",
       "4  0.7418019 1   1.0387821  0.9374874  0.8176942 -1.16382738  1.5545054\n",
       "5 -1.3728086 2  -0.9966301 -1.2763106 -0.6106480  1.28070300  0.6482993\n",
       "6  0.7418019 2  -0.5269196 -0.4856684 -0.7535218  0.07541371 -0.8023394\n",
       "  othdebt    default\n",
       "1  1.2654642 1      \n",
       "2  0.7465484 0      \n",
       "3 -0.1966729 0      \n",
       "4 -0.8905678 0      \n",
       "5  0.2603676 1      \n",
       "6 -0.2026585 0      "
      ]
     },
     "metadata": {},
     "output_type": "display_data"
    }
   ],
   "source": [
    "cols=c('age','employ','address','income','debtinc','creddebt','othdebt')\n",
    "# Saving the continuous variable names.\n",
    "\n",
    "# bld$ed = as.factor(bld$ed)\n",
    "# bld$default = as.factor(bld$default)\n",
    "\n",
    "# Normalisation\n",
    "# for(i in cols)\n",
    "# {\n",
    "#   print(i)\n",
    "#   bld[,i] = (bld[,i] - min(bld[,i]))/\n",
    "#                                 (max(bld[,i]) - min(bld[,i]))\n",
    "# }\n",
    "#Above- Converting of variables in normalized variables.\n",
    "# Standardisation(Apply it when, the data is following the normality pattern)\n",
    "for(i in cols) \n",
    "{\n",
    "  print(i)\n",
    "  bld[,i] = (bld[,i] - mean(bld[,i]))/\n",
    "                                sd(bld[,i])  \n",
    "}\n",
    "head(bld)"
   ]
  },
  {
   "cell_type": "markdown",
   "metadata": {},
   "source": [
    "## Correlation Analysis"
   ]
  },
  {
   "cell_type": "code",
   "execution_count": 15,
   "metadata": {},
   "outputs": [
    {
     "data": {
      "image/png": "[encoded data removed]",
      "text/plain": [
       "plot without title"
      ]
     },
     "metadata": {
      "image/png": {
       "height": 420,
       "width": 420
      },
      "text/plain": {
       "height": 420,
       "width": 420
      }
     },
     "output_type": "display_data"
    }
   ],
   "source": [
    "###Correlation plot\n",
    "#Extreme Blue:highly positively correlated.\n",
    "#Extreme Red :highly negatively correlated. \n",
    "# Check co-orelation between variables\n",
    "bld$ed=as.numeric(bld$ed)\n",
    "numeric_index = sapply(bld ,is.numeric)\n",
    "\n",
    "# numeric_data = bld[,numeric_index]\n",
    "# cnames = colnames(numeric_data)\n",
    "\n",
    "\n",
    "corrgram(bld[,numeric_index],order = F,upper.panel=panel.pie,text.panel = panel.txt,\n",
    "         main = \"Correlation Plot\")\n",
    "\n",
    "# bld = subset(bld, select = -c(debtinc))\n",
    "bld = subset(bld, select = -c(debtinc, age))\n",
    "# bld = subset(bld, select = -c(income, age, othdebt))\n",
    "\n",
    "# numeric_data\n",
    "bld$ed=as.factor(bld$ed)"
   ]
  },
  {
   "cell_type": "markdown",
   "metadata": {},
   "source": [
    "## Collecting Input data after processing"
   ]
  },
  {
   "cell_type": "code",
   "execution_count": 16,
   "metadata": {},
   "outputs": [
    {
     "data": {
      "text/html": [
       "<table>\n",
       "<caption>A data.frame: 1 × 7</caption>\n",
       "<thead>\n",
       "\t<tr><th></th><th scope=col>ed</th><th scope=col>employ</th><th scope=col>address</th><th scope=col>income</th><th scope=col>creddebt</th><th scope=col>othdebt</th><th scope=col>default</th></tr>\n",
       "\t<tr><th></th><th scope=col>&lt;fct&gt;</th><th scope=col>&lt;dbl&gt;</th><th scope=col>&lt;dbl&gt;</th><th scope=col>&lt;dbl&gt;</th><th scope=col>&lt;dbl&gt;</th><th scope=col>&lt;dbl&gt;</th><th scope=col>&lt;fct&gt;</th></tr>\n",
       "</thead>\n",
       "<tbody>\n",
       "\t<tr><th scope=row>851</th><td>3</td><td>1.351922</td><td>0.6212305</td><td>1.100735</td><td>-0.4958783</td><td>1.265151</td><td>1</td></tr>\n",
       "</tbody>\n",
       "</table>\n"
      ],
      "text/latex": [
       "A data.frame: 1 × 7\n",
       "\\begin{tabular}{r|lllllll}\n",
       "  & ed & employ & address & income & creddebt & othdebt & default\\\\\n",
       "  & <fct> & <dbl> & <dbl> & <dbl> & <dbl> & <dbl> & <fct>\\\\\n",
       "\\hline\n",
       "\t851 & 3 & 1.351922 & 0.6212305 & 1.100735 & -0.4958783 & 1.265151 & 1\\\\\n",
       "\\end{tabular}\n"
      ],
      "text/markdown": [
       "\n",
       "A data.frame: 1 × 7\n",
       "\n",
       "| <!--/--> | ed &lt;fct&gt; | employ &lt;dbl&gt; | address &lt;dbl&gt; | income &lt;dbl&gt; | creddebt &lt;dbl&gt; | othdebt &lt;dbl&gt; | default &lt;fct&gt; |\n",
       "|---|---|---|---|---|---|---|---|\n",
       "| 851 | 3 | 1.351922 | 0.6212305 | 1.100735 | -0.4958783 | 1.265151 | 1 |\n",
       "\n"
      ],
      "text/plain": [
       "    ed employ   address   income   creddebt   othdebt  default\n",
       "851 3  1.351922 0.6212305 1.100735 -0.4958783 1.265151 1      "
      ]
     },
     "metadata": {},
     "output_type": "display_data"
    },
    {
     "name": "stdout",
     "output_type": "stream",
     "text": [
      "'data.frame':\t850 obs. of  7 variables:\n",
      " $ ed      : Factor w/ 5 levels \"1\",\"2\",\"3\",\"4\",..: 3 1 1 1 2 2 1 1 1 1 ...\n",
      " $ employ  : num  1.352 0.256 1.039 1.039 -0.997 ...\n",
      " $ address : num  0.621 -0.328 0.937 0.937 -1.276 ...\n",
      " $ income  : num  1.101 -0.468 0.675 0.818 -0.611 ...\n",
      " $ creddebt: num  -0.496 0.206 -0.32 1.555 0.648 ...\n",
      " $ othdebt : num  1.265 0.747 -0.197 -0.891 0.26 ...\n",
      " $ default : Factor w/ 2 levels \"0\",\"1\": 2 1 1 1 2 1 1 1 2 1 ...\n"
     ]
    }
   ],
   "source": [
    "input_data = bld[851,]\n",
    "input_data\n",
    "bld = bld[-c(851),]\n",
    "str(bld)"
   ]
  },
  {
   "cell_type": "code",
   "execution_count": 17,
   "metadata": {},
   "outputs": [
    {
     "name": "stdout",
     "output_type": "stream",
     "text": [
      "'data.frame':\t681 obs. of  7 variables:\n",
      " $ ed      : Factor w/ 5 levels \"1\",\"2\",\"3\",\"4\",..: 3 1 1 2 2 1 1 1 1 1 ...\n",
      " $ employ  : num  1.352 0.256 1.039 -0.997 -0.527 ...\n",
      " $ address : num  0.621 -0.328 0.937 -1.276 -0.486 ...\n",
      " $ income  : num  1.101 -0.468 0.675 -0.611 -0.754 ...\n",
      " $ creddebt: num  -0.496 0.206 -0.32 0.648 -0.802 ...\n",
      " $ othdebt : num  1.265 0.747 -0.197 0.26 -0.203 ...\n",
      " $ default : Factor w/ 2 levels \"0\",\"1\": 2 1 1 2 1 2 1 1 1 1 ...\n",
      "'data.frame':\t169 obs. of  7 variables:\n",
      " $ ed      : Factor w/ 5 levels \"1\",\"2\",\"3\",\"4\",..: 1 1 1 1 1 2 1 1 2 2 ...\n",
      " $ employ  : num  1.039 1.822 0.569 -1.31 -0.683 ...\n",
      " $ address : num  0.937 0.147 0.463 -1.118 -1.276 ...\n",
      " $ income  : num  0.818 1.247 -0.134 -1.182 -0.849 ...\n",
      " $ creddebt: num  1.555 2.777 -1.077 -1.021 -0.948 ...\n",
      " $ othdebt : num  -0.891 1.626 -0.675 -1.267 -0.828 ...\n",
      " $ default : Factor w/ 2 levels \"0\",\"1\": 1 1 1 1 1 2 1 1 2 1 ...\n"
     ]
    },
    {
     "data": {
      "text/html": [
       "<table>\n",
       "<caption>A data.frame: 850 × 7</caption>\n",
       "<thead>\n",
       "\t<tr><th></th><th scope=col>ed</th><th scope=col>employ</th><th scope=col>address</th><th scope=col>income</th><th scope=col>creddebt</th><th scope=col>othdebt</th><th scope=col>default</th></tr>\n",
       "\t<tr><th></th><th scope=col>&lt;fct&gt;</th><th scope=col>&lt;dbl&gt;</th><th scope=col>&lt;dbl&gt;</th><th scope=col>&lt;dbl&gt;</th><th scope=col>&lt;dbl&gt;</th><th scope=col>&lt;dbl&gt;</th><th scope=col>&lt;fct&gt;</th></tr>\n",
       "</thead>\n",
       "<tbody>\n",
       "\t<tr><th scope=row>1</th><td>3</td><td> 1.35192243</td><td> 0.62123053</td><td> 1.100736725</td><td>-0.495926795</td><td> 1.26546421</td><td>1</td></tr>\n",
       "\t<tr><th scope=row>2</th><td>1</td><td> 0.25593125</td><td>-0.32754002</td><td>-0.467774254</td><td> 0.206021386</td><td> 0.74654842</td><td>0</td></tr>\n",
       "\t<tr><th scope=row>3</th><td>1</td><td> 1.03878209</td><td> 0.93748737</td><td> 0.675215871</td><td>-0.320391795</td><td>-0.19667286</td><td>0</td></tr>\n",
       "\t<tr><th scope=row>4</th><td>1</td><td> 1.03878209</td><td> 0.93748737</td><td> 0.817694154</td><td> 1.554505394</td><td>-0.89056781</td><td>0</td></tr>\n",
       "\t<tr><th scope=row>5</th><td>2</td><td>-0.99663009</td><td>-1.27631056</td><td>-0.610648019</td><td> 0.648299279</td><td> 0.26036755</td><td>1</td></tr>\n",
       "\t<tr><th scope=row>6</th><td>2</td><td>-0.52691959</td><td>-0.48566844</td><td>-0.753521785</td><td>-0.802339425</td><td>-0.20265850</td><td>0</td></tr>\n",
       "\t<tr><th scope=row>7</th><td>1</td><td> 1.82163294</td><td> 0.14684525</td><td> 1.246710933</td><td> 2.776760985</td><td> 1.62552705</td><td>0</td></tr>\n",
       "\t<tr><th scope=row>8</th><td>1</td><td> 0.56907159</td><td> 0.46310210</td><td>-0.134402134</td><td>-1.077033193</td><td>-0.67527602</td><td>0</td></tr>\n",
       "\t<tr><th scope=row>9</th><td>1</td><td>-0.84005992</td><td>-0.64379687</td><td>-1.039269316</td><td> 0.202012913</td><td> 0.37420454</td><td>1</td></tr>\n",
       "\t<tr><th scope=row>10</th><td>1</td><td>-1.30977043</td><td> 0.77935895</td><td>-0.753521785</td><td> 1.678254256</td><td>-0.20780745</td><td>0</td></tr>\n",
       "\t<tr><th scope=row>11</th><td>1</td><td>-1.30977043</td><td>-1.11818214</td><td>-1.182143081</td><td>-1.020952014</td><td>-1.26736346</td><td>0</td></tr>\n",
       "\t<tr><th scope=row>12</th><td>1</td><td>-0.68348976</td><td>-1.27631056</td><td>-0.848770962</td><td>-0.948308582</td><td>-0.82756326</td><td>0</td></tr>\n",
       "\t<tr><th scope=row>13</th><td>1</td><td> 2.44791361</td><td> 0.93748737</td><td> 1.103837167</td><td> 2.876323799</td><td>-0.04144505</td><td>0</td></tr>\n",
       "\t<tr><th scope=row>14</th><td>1</td><td>-0.37034942</td><td> 0.14684525</td><td>-0.563023431</td><td> 0.573897069</td><td> 0.23695788</td><td>0</td></tr>\n",
       "\t<tr><th scope=row>15</th><td>1</td><td> 2.13477327</td><td> 1.09561580</td><td> 2.818322353</td><td> 2.641369454</td><td> 1.46508468</td><td>0</td></tr>\n",
       "\t<tr><th scope=row>16</th><td>2</td><td> 0.09936108</td><td>-0.32754002</td><td> 0.389468340</td><td>-0.360496287</td><td> 0.43539048</td><td>1</td></tr>\n",
       "\t<tr><th scope=row>17</th><td>2</td><td> 0.72564176</td><td>-0.32754002</td><td> 0.008471631</td><td> 1.824402307</td><td> 0.64613679</td><td>1</td></tr>\n",
       "\t<tr><th scope=row>18</th><td>1</td><td> 2.29134344</td><td> 1.72812949</td><td> 1.484833875</td><td> 0.018546749</td><td> 0.89548164</td><td>0</td></tr>\n",
       "\t<tr><th scope=row>19</th><td>1</td><td>-0.37034942</td><td> 0.14684525</td><td> 0.960963402</td><td>-0.624928613</td><td> 0.18682106</td><td>0</td></tr>\n",
       "\t<tr><th scope=row>20</th><td>3</td><td>-1.30977043</td><td> 2.04438634</td><td>-0.705897196</td><td>-1.107802955</td><td>-1.13683565</td><td>0</td></tr>\n",
       "\t<tr><th scope=row>21</th><td>1</td><td> 2.13477327</td><td>-0.80192529</td><td> 0.532342105</td><td>-0.009676895</td><td>-1.05126431</td><td>0</td></tr>\n",
       "\t<tr><th scope=row>22</th><td>1</td><td> 1.35192243</td><td> 2.04438634</td><td> 0.103720808</td><td>-0.599677521</td><td>-0.37610173</td><td>0</td></tr>\n",
       "\t<tr><th scope=row>23</th><td>1</td><td>-0.84005992</td><td>-0.32754002</td><td>-0.705897196</td><td>-0.761880266</td><td>-0.19694318</td><td>0</td></tr>\n",
       "\t<tr><th scope=row>24</th><td>1</td><td>-0.05720908</td><td>-0.32754002</td><td>-0.658272608</td><td>-0.792466974</td><td>-0.15811601</td><td>0</td></tr>\n",
       "\t<tr><th scope=row>25</th><td>2</td><td>-1.15320026</td><td>-0.96005371</td><td>-1.182143081</td><td>-0.959162869</td><td> 0.04489246</td><td>1</td></tr>\n",
       "\t<tr><th scope=row>26</th><td>4</td><td>-1.30977043</td><td>-0.96005371</td><td>-0.420149665</td><td> 1.015160883</td><td> 0.48448876</td><td>0</td></tr>\n",
       "\t<tr><th scope=row>27</th><td>2</td><td> 0.09936108</td><td> 1.30656952</td><td> 1.341960110</td><td>-0.475110115</td><td> 0.70272214</td><td>0</td></tr>\n",
       "\t<tr><th scope=row>28</th><td>1</td><td> 2.60448378</td><td> 2.04438634</td><td> 1.103837167</td><td>-0.221420788</td><td> 1.71578825</td><td>0</td></tr>\n",
       "\t<tr><th scope=row>29</th><td>2</td><td> 0.56907159</td><td>-0.01128317</td><td> 0.818089636</td><td> 1.997047467</td><td> 2.59347178</td><td>0</td></tr>\n",
       "\t<tr><th scope=row>30</th><td>3</td><td>-0.99663009</td><td>-1.11818214</td><td>-0.182026723</td><td>-0.997660435</td><td> 1.28631023</td><td>0</td></tr>\n",
       "\t<tr><th scope=row>...</th><td>...</td><td>...</td><td>...</td><td>...</td><td>...</td><td>...</td><td>...</td></tr>\n",
       "\t<tr><th scope=row>821</th><td>1</td><td> 1.19535226</td><td>-1.27631056</td><td>-0.182026723</td><td> 0.76034936</td><td>-0.205885862</td><td>0</td></tr>\n",
       "\t<tr><th scope=row>822</th><td>1</td><td> 0.09936108</td><td>-0.01128317</td><td> 1.199086344</td><td> 1.22365972</td><td> 0.471892381</td><td>0</td></tr>\n",
       "\t<tr><th scope=row>823</th><td>3</td><td>-0.05720908</td><td>-1.11818214</td><td> 0.616903163</td><td> 0.14463804</td><td> 1.679759974</td><td>0</td></tr>\n",
       "\t<tr><th scope=row>824</th><td>1</td><td>-0.52691959</td><td>-1.11818214</td><td> 0.246594574</td><td>-0.65990654</td><td>-0.686115574</td><td>0</td></tr>\n",
       "\t<tr><th scope=row>825</th><td>3</td><td>-0.21377925</td><td> 1.25374422</td><td> 1.770581406</td><td> 2.06875275</td><td> 1.280005860</td><td>0</td></tr>\n",
       "\t<tr><th scope=row>826</th><td>2</td><td>-1.30977043</td><td>-0.16941159</td><td>-0.848770962</td><td> 0.08100154</td><td>-1.005533447</td><td>0</td></tr>\n",
       "\t<tr><th scope=row>827</th><td>2</td><td>-1.30977043</td><td>-1.27631056</td><td>-1.277392258</td><td>-0.95929392</td><td>-0.205281376</td><td>0</td></tr>\n",
       "\t<tr><th scope=row>828</th><td>1</td><td> 1.19535226</td><td>-0.01128317</td><td>-0.182026723</td><td>-1.12473132</td><td> 0.282355608</td><td>0</td></tr>\n",
       "\t<tr><th scope=row>829</th><td>1</td><td>-0.37034942</td><td> 1.72812949</td><td>-0.515398842</td><td> 0.26097720</td><td> 0.676606182</td><td>0</td></tr>\n",
       "\t<tr><th scope=row>830</th><td>4</td><td>-0.21377925</td><td> 1.25374422</td><td> 1.532458464</td><td>-0.63283115</td><td>-1.186094579</td><td>0</td></tr>\n",
       "\t<tr><th scope=row>831</th><td>1</td><td> 0.72564176</td><td> 0.46310210</td><td>-0.753521785</td><td>-0.59063090</td><td>-0.655019038</td><td>0</td></tr>\n",
       "\t<tr><th scope=row>832</th><td>3</td><td> 1.19535226</td><td> 0.30497368</td><td> 0.897742246</td><td> 0.25069287</td><td> 2.374670468</td><td>0</td></tr>\n",
       "\t<tr><th scope=row>833</th><td>2</td><td> 1.03878209</td><td> 1.72812949</td><td> 1.198878594</td><td> 0.06033305</td><td> 0.970565613</td><td>0</td></tr>\n",
       "\t<tr><th scope=row>834</th><td>1</td><td> 1.19535226</td><td> 1.72812949</td><td> 1.586903001</td><td> 0.83205882</td><td> 2.825693306</td><td>0</td></tr>\n",
       "\t<tr><th scope=row>835</th><td>1</td><td> 0.25593125</td><td>-1.11818214</td><td> 0.056096220</td><td>-0.12131505</td><td> 0.007016821</td><td>0</td></tr>\n",
       "\t<tr><th scope=row>836</th><td>1</td><td> 1.66506277</td><td>-0.01128317</td><td> 0.198969986</td><td>-0.25369139</td><td> 1.016351573</td><td>0</td></tr>\n",
       "\t<tr><th scope=row>837</th><td>2</td><td> 0.72564176</td><td>-1.11818214</td><td> 2.484950234</td><td> 2.24434931</td><td> 0.812374585</td><td>1</td></tr>\n",
       "\t<tr><th scope=row>838</th><td>2</td><td> 0.56907159</td><td>-0.01128317</td><td> 0.151345397</td><td> 0.73106062</td><td>-0.099838198</td><td>0</td></tr>\n",
       "\t<tr><th scope=row>839</th><td>1</td><td> 1.82163294</td><td>-0.01128317</td><td> 1.533332595</td><td> 1.11908164</td><td>-0.018004990</td><td>0</td></tr>\n",
       "\t<tr><th scope=row>840</th><td>1</td><td>-0.68348976</td><td> 0.30497368</td><td>-0.801146373</td><td>-0.77479391</td><td> 0.225484484</td><td>0</td></tr>\n",
       "\t<tr><th scope=row>841</th><td>2</td><td> 0.41250142</td><td>-1.11818214</td><td> 1.008587990</td><td> 0.05261294</td><td>-0.111072091</td><td>0</td></tr>\n",
       "\t<tr><th scope=row>842</th><td>4</td><td> 0.25593125</td><td> 0.62123053</td><td> 0.198969986</td><td>-0.12867883</td><td> 0.120334796</td><td>0</td></tr>\n",
       "\t<tr><th scope=row>843</th><td>4</td><td> 1.03878209</td><td> 1.17338056</td><td>-0.705897196</td><td> 0.88184743</td><td>-0.528732932</td><td>0</td></tr>\n",
       "\t<tr><th scope=row>844</th><td>1</td><td>-0.52691959</td><td>-0.96005371</td><td>-0.658272608</td><td>-0.45789573</td><td>-0.713006453</td><td>0</td></tr>\n",
       "\t<tr><th scope=row>845</th><td>1</td><td>-0.84005992</td><td>-0.64379687</td><td>-1.325016847</td><td>-1.16341506</td><td>-1.129385647</td><td>0</td></tr>\n",
       "\t<tr><th scope=row>846</th><td>1</td><td> 0.56907159</td><td> 1.09561580</td><td>-0.420149665</td><td>-0.96185876</td><td>-0.991800181</td><td>0</td></tr>\n",
       "\t<tr><th scope=row>847</th><td>2</td><td> 0.56907159</td><td> 0.46310210</td><td> 1.640677863</td><td> 2.97732401</td><td> 0.017712209</td><td>0</td></tr>\n",
       "\t<tr><th scope=row>848</th><td>1</td><td> 0.72564176</td><td> 0.46310210</td><td>-0.134402134</td><td>-0.45952450</td><td> 0.427776223</td><td>0</td></tr>\n",
       "\t<tr><th scope=row>849</th><td>2</td><td>-1.15320026</td><td> 0.46310210</td><td>-0.801146373</td><td>-0.77659117</td><td>-0.564503680</td><td>0</td></tr>\n",
       "\t<tr><th scope=row>850</th><td>1</td><td> 1.82163294</td><td> 0.77935895</td><td> 0.008471631</td><td>-0.27561110</td><td> 0.946879437</td><td>0</td></tr>\n",
       "</tbody>\n",
       "</table>\n"
      ],
      "text/latex": [
       "A data.frame: 850 × 7\n",
       "\\begin{tabular}{r|lllllll}\n",
       "  & ed & employ & address & income & creddebt & othdebt & default\\\\\n",
       "  & <fct> & <dbl> & <dbl> & <dbl> & <dbl> & <dbl> & <fct>\\\\\n",
       "\\hline\n",
       "\t1 & 3 &  1.35192243 &  0.62123053 &  1.100736725 & -0.495926795 &  1.26546421 & 1\\\\\n",
       "\t2 & 1 &  0.25593125 & -0.32754002 & -0.467774254 &  0.206021386 &  0.74654842 & 0\\\\\n",
       "\t3 & 1 &  1.03878209 &  0.93748737 &  0.675215871 & -0.320391795 & -0.19667286 & 0\\\\\n",
       "\t4 & 1 &  1.03878209 &  0.93748737 &  0.817694154 &  1.554505394 & -0.89056781 & 0\\\\\n",
       "\t5 & 2 & -0.99663009 & -1.27631056 & -0.610648019 &  0.648299279 &  0.26036755 & 1\\\\\n",
       "\t6 & 2 & -0.52691959 & -0.48566844 & -0.753521785 & -0.802339425 & -0.20265850 & 0\\\\\n",
       "\t7 & 1 &  1.82163294 &  0.14684525 &  1.246710933 &  2.776760985 &  1.62552705 & 0\\\\\n",
       "\t8 & 1 &  0.56907159 &  0.46310210 & -0.134402134 & -1.077033193 & -0.67527602 & 0\\\\\n",
       "\t9 & 1 & -0.84005992 & -0.64379687 & -1.039269316 &  0.202012913 &  0.37420454 & 1\\\\\n",
       "\t10 & 1 & -1.30977043 &  0.77935895 & -0.753521785 &  1.678254256 & -0.20780745 & 0\\\\\n",
       "\t11 & 1 & -1.30977043 & -1.11818214 & -1.182143081 & -1.020952014 & -1.26736346 & 0\\\\\n",
       "\t12 & 1 & -0.68348976 & -1.27631056 & -0.848770962 & -0.948308582 & -0.82756326 & 0\\\\\n",
       "\t13 & 1 &  2.44791361 &  0.93748737 &  1.103837167 &  2.876323799 & -0.04144505 & 0\\\\\n",
       "\t14 & 1 & -0.37034942 &  0.14684525 & -0.563023431 &  0.573897069 &  0.23695788 & 0\\\\\n",
       "\t15 & 1 &  2.13477327 &  1.09561580 &  2.818322353 &  2.641369454 &  1.46508468 & 0\\\\\n",
       "\t16 & 2 &  0.09936108 & -0.32754002 &  0.389468340 & -0.360496287 &  0.43539048 & 1\\\\\n",
       "\t17 & 2 &  0.72564176 & -0.32754002 &  0.008471631 &  1.824402307 &  0.64613679 & 1\\\\\n",
       "\t18 & 1 &  2.29134344 &  1.72812949 &  1.484833875 &  0.018546749 &  0.89548164 & 0\\\\\n",
       "\t19 & 1 & -0.37034942 &  0.14684525 &  0.960963402 & -0.624928613 &  0.18682106 & 0\\\\\n",
       "\t20 & 3 & -1.30977043 &  2.04438634 & -0.705897196 & -1.107802955 & -1.13683565 & 0\\\\\n",
       "\t21 & 1 &  2.13477327 & -0.80192529 &  0.532342105 & -0.009676895 & -1.05126431 & 0\\\\\n",
       "\t22 & 1 &  1.35192243 &  2.04438634 &  0.103720808 & -0.599677521 & -0.37610173 & 0\\\\\n",
       "\t23 & 1 & -0.84005992 & -0.32754002 & -0.705897196 & -0.761880266 & -0.19694318 & 0\\\\\n",
       "\t24 & 1 & -0.05720908 & -0.32754002 & -0.658272608 & -0.792466974 & -0.15811601 & 0\\\\\n",
       "\t25 & 2 & -1.15320026 & -0.96005371 & -1.182143081 & -0.959162869 &  0.04489246 & 1\\\\\n",
       "\t26 & 4 & -1.30977043 & -0.96005371 & -0.420149665 &  1.015160883 &  0.48448876 & 0\\\\\n",
       "\t27 & 2 &  0.09936108 &  1.30656952 &  1.341960110 & -0.475110115 &  0.70272214 & 0\\\\\n",
       "\t28 & 1 &  2.60448378 &  2.04438634 &  1.103837167 & -0.221420788 &  1.71578825 & 0\\\\\n",
       "\t29 & 2 &  0.56907159 & -0.01128317 &  0.818089636 &  1.997047467 &  2.59347178 & 0\\\\\n",
       "\t30 & 3 & -0.99663009 & -1.11818214 & -0.182026723 & -0.997660435 &  1.28631023 & 0\\\\\n",
       "\t... & ... & ... & ... & ... & ... & ... & ...\\\\\n",
       "\t821 & 1 &  1.19535226 & -1.27631056 & -0.182026723 &  0.76034936 & -0.205885862 & 0\\\\\n",
       "\t822 & 1 &  0.09936108 & -0.01128317 &  1.199086344 &  1.22365972 &  0.471892381 & 0\\\\\n",
       "\t823 & 3 & -0.05720908 & -1.11818214 &  0.616903163 &  0.14463804 &  1.679759974 & 0\\\\\n",
       "\t824 & 1 & -0.52691959 & -1.11818214 &  0.246594574 & -0.65990654 & -0.686115574 & 0\\\\\n",
       "\t825 & 3 & -0.21377925 &  1.25374422 &  1.770581406 &  2.06875275 &  1.280005860 & 0\\\\\n",
       "\t826 & 2 & -1.30977043 & -0.16941159 & -0.848770962 &  0.08100154 & -1.005533447 & 0\\\\\n",
       "\t827 & 2 & -1.30977043 & -1.27631056 & -1.277392258 & -0.95929392 & -0.205281376 & 0\\\\\n",
       "\t828 & 1 &  1.19535226 & -0.01128317 & -0.182026723 & -1.12473132 &  0.282355608 & 0\\\\\n",
       "\t829 & 1 & -0.37034942 &  1.72812949 & -0.515398842 &  0.26097720 &  0.676606182 & 0\\\\\n",
       "\t830 & 4 & -0.21377925 &  1.25374422 &  1.532458464 & -0.63283115 & -1.186094579 & 0\\\\\n",
       "\t831 & 1 &  0.72564176 &  0.46310210 & -0.753521785 & -0.59063090 & -0.655019038 & 0\\\\\n",
       "\t832 & 3 &  1.19535226 &  0.30497368 &  0.897742246 &  0.25069287 &  2.374670468 & 0\\\\\n",
       "\t833 & 2 &  1.03878209 &  1.72812949 &  1.198878594 &  0.06033305 &  0.970565613 & 0\\\\\n",
       "\t834 & 1 &  1.19535226 &  1.72812949 &  1.586903001 &  0.83205882 &  2.825693306 & 0\\\\\n",
       "\t835 & 1 &  0.25593125 & -1.11818214 &  0.056096220 & -0.12131505 &  0.007016821 & 0\\\\\n",
       "\t836 & 1 &  1.66506277 & -0.01128317 &  0.198969986 & -0.25369139 &  1.016351573 & 0\\\\\n",
       "\t837 & 2 &  0.72564176 & -1.11818214 &  2.484950234 &  2.24434931 &  0.812374585 & 1\\\\\n",
       "\t838 & 2 &  0.56907159 & -0.01128317 &  0.151345397 &  0.73106062 & -0.099838198 & 0\\\\\n",
       "\t839 & 1 &  1.82163294 & -0.01128317 &  1.533332595 &  1.11908164 & -0.018004990 & 0\\\\\n",
       "\t840 & 1 & -0.68348976 &  0.30497368 & -0.801146373 & -0.77479391 &  0.225484484 & 0\\\\\n",
       "\t841 & 2 &  0.41250142 & -1.11818214 &  1.008587990 &  0.05261294 & -0.111072091 & 0\\\\\n",
       "\t842 & 4 &  0.25593125 &  0.62123053 &  0.198969986 & -0.12867883 &  0.120334796 & 0\\\\\n",
       "\t843 & 4 &  1.03878209 &  1.17338056 & -0.705897196 &  0.88184743 & -0.528732932 & 0\\\\\n",
       "\t844 & 1 & -0.52691959 & -0.96005371 & -0.658272608 & -0.45789573 & -0.713006453 & 0\\\\\n",
       "\t845 & 1 & -0.84005992 & -0.64379687 & -1.325016847 & -1.16341506 & -1.129385647 & 0\\\\\n",
       "\t846 & 1 &  0.56907159 &  1.09561580 & -0.420149665 & -0.96185876 & -0.991800181 & 0\\\\\n",
       "\t847 & 2 &  0.56907159 &  0.46310210 &  1.640677863 &  2.97732401 &  0.017712209 & 0\\\\\n",
       "\t848 & 1 &  0.72564176 &  0.46310210 & -0.134402134 & -0.45952450 &  0.427776223 & 0\\\\\n",
       "\t849 & 2 & -1.15320026 &  0.46310210 & -0.801146373 & -0.77659117 & -0.564503680 & 0\\\\\n",
       "\t850 & 1 &  1.82163294 &  0.77935895 &  0.008471631 & -0.27561110 &  0.946879437 & 0\\\\\n",
       "\\end{tabular}\n"
      ],
      "text/markdown": [
       "\n",
       "A data.frame: 850 × 7\n",
       "\n",
       "| <!--/--> | ed &lt;fct&gt; | employ &lt;dbl&gt; | address &lt;dbl&gt; | income &lt;dbl&gt; | creddebt &lt;dbl&gt; | othdebt &lt;dbl&gt; | default &lt;fct&gt; |\n",
       "|---|---|---|---|---|---|---|---|\n",
       "| 1 | 3 |  1.35192243 |  0.62123053 |  1.100736725 | -0.495926795 |  1.26546421 | 1 |\n",
       "| 2 | 1 |  0.25593125 | -0.32754002 | -0.467774254 |  0.206021386 |  0.74654842 | 0 |\n",
       "| 3 | 1 |  1.03878209 |  0.93748737 |  0.675215871 | -0.320391795 | -0.19667286 | 0 |\n",
       "| 4 | 1 |  1.03878209 |  0.93748737 |  0.817694154 |  1.554505394 | -0.89056781 | 0 |\n",
       "| 5 | 2 | -0.99663009 | -1.27631056 | -0.610648019 |  0.648299279 |  0.26036755 | 1 |\n",
       "| 6 | 2 | -0.52691959 | -0.48566844 | -0.753521785 | -0.802339425 | -0.20265850 | 0 |\n",
       "| 7 | 1 |  1.82163294 |  0.14684525 |  1.246710933 |  2.776760985 |  1.62552705 | 0 |\n",
       "| 8 | 1 |  0.56907159 |  0.46310210 | -0.134402134 | -1.077033193 | -0.67527602 | 0 |\n",
       "| 9 | 1 | -0.84005992 | -0.64379687 | -1.039269316 |  0.202012913 |  0.37420454 | 1 |\n",
       "| 10 | 1 | -1.30977043 |  0.77935895 | -0.753521785 |  1.678254256 | -0.20780745 | 0 |\n",
       "| 11 | 1 | -1.30977043 | -1.11818214 | -1.182143081 | -1.020952014 | -1.26736346 | 0 |\n",
       "| 12 | 1 | -0.68348976 | -1.27631056 | -0.848770962 | -0.948308582 | -0.82756326 | 0 |\n",
       "| 13 | 1 |  2.44791361 |  0.93748737 |  1.103837167 |  2.876323799 | -0.04144505 | 0 |\n",
       "| 14 | 1 | -0.37034942 |  0.14684525 | -0.563023431 |  0.573897069 |  0.23695788 | 0 |\n",
       "| 15 | 1 |  2.13477327 |  1.09561580 |  2.818322353 |  2.641369454 |  1.46508468 | 0 |\n",
       "| 16 | 2 |  0.09936108 | -0.32754002 |  0.389468340 | -0.360496287 |  0.43539048 | 1 |\n",
       "| 17 | 2 |  0.72564176 | -0.32754002 |  0.008471631 |  1.824402307 |  0.64613679 | 1 |\n",
       "| 18 | 1 |  2.29134344 |  1.72812949 |  1.484833875 |  0.018546749 |  0.89548164 | 0 |\n",
       "| 19 | 1 | -0.37034942 |  0.14684525 |  0.960963402 | -0.624928613 |  0.18682106 | 0 |\n",
       "| 20 | 3 | -1.30977043 |  2.04438634 | -0.705897196 | -1.107802955 | -1.13683565 | 0 |\n",
       "| 21 | 1 |  2.13477327 | -0.80192529 |  0.532342105 | -0.009676895 | -1.05126431 | 0 |\n",
       "| 22 | 1 |  1.35192243 |  2.04438634 |  0.103720808 | -0.599677521 | -0.37610173 | 0 |\n",
       "| 23 | 1 | -0.84005992 | -0.32754002 | -0.705897196 | -0.761880266 | -0.19694318 | 0 |\n",
       "| 24 | 1 | -0.05720908 | -0.32754002 | -0.658272608 | -0.792466974 | -0.15811601 | 0 |\n",
       "| 25 | 2 | -1.15320026 | -0.96005371 | -1.182143081 | -0.959162869 |  0.04489246 | 1 |\n",
       "| 26 | 4 | -1.30977043 | -0.96005371 | -0.420149665 |  1.015160883 |  0.48448876 | 0 |\n",
       "| 27 | 2 |  0.09936108 |  1.30656952 |  1.341960110 | -0.475110115 |  0.70272214 | 0 |\n",
       "| 28 | 1 |  2.60448378 |  2.04438634 |  1.103837167 | -0.221420788 |  1.71578825 | 0 |\n",
       "| 29 | 2 |  0.56907159 | -0.01128317 |  0.818089636 |  1.997047467 |  2.59347178 | 0 |\n",
       "| 30 | 3 | -0.99663009 | -1.11818214 | -0.182026723 | -0.997660435 |  1.28631023 | 0 |\n",
       "| ... | ... | ... | ... | ... | ... | ... | ... |\n",
       "| 821 | 1 |  1.19535226 | -1.27631056 | -0.182026723 |  0.76034936 | -0.205885862 | 0 |\n",
       "| 822 | 1 |  0.09936108 | -0.01128317 |  1.199086344 |  1.22365972 |  0.471892381 | 0 |\n",
       "| 823 | 3 | -0.05720908 | -1.11818214 |  0.616903163 |  0.14463804 |  1.679759974 | 0 |\n",
       "| 824 | 1 | -0.52691959 | -1.11818214 |  0.246594574 | -0.65990654 | -0.686115574 | 0 |\n",
       "| 825 | 3 | -0.21377925 |  1.25374422 |  1.770581406 |  2.06875275 |  1.280005860 | 0 |\n",
       "| 826 | 2 | -1.30977043 | -0.16941159 | -0.848770962 |  0.08100154 | -1.005533447 | 0 |\n",
       "| 827 | 2 | -1.30977043 | -1.27631056 | -1.277392258 | -0.95929392 | -0.205281376 | 0 |\n",
       "| 828 | 1 |  1.19535226 | -0.01128317 | -0.182026723 | -1.12473132 |  0.282355608 | 0 |\n",
       "| 829 | 1 | -0.37034942 |  1.72812949 | -0.515398842 |  0.26097720 |  0.676606182 | 0 |\n",
       "| 830 | 4 | -0.21377925 |  1.25374422 |  1.532458464 | -0.63283115 | -1.186094579 | 0 |\n",
       "| 831 | 1 |  0.72564176 |  0.46310210 | -0.753521785 | -0.59063090 | -0.655019038 | 0 |\n",
       "| 832 | 3 |  1.19535226 |  0.30497368 |  0.897742246 |  0.25069287 |  2.374670468 | 0 |\n",
       "| 833 | 2 |  1.03878209 |  1.72812949 |  1.198878594 |  0.06033305 |  0.970565613 | 0 |\n",
       "| 834 | 1 |  1.19535226 |  1.72812949 |  1.586903001 |  0.83205882 |  2.825693306 | 0 |\n",
       "| 835 | 1 |  0.25593125 | -1.11818214 |  0.056096220 | -0.12131505 |  0.007016821 | 0 |\n",
       "| 836 | 1 |  1.66506277 | -0.01128317 |  0.198969986 | -0.25369139 |  1.016351573 | 0 |\n",
       "| 837 | 2 |  0.72564176 | -1.11818214 |  2.484950234 |  2.24434931 |  0.812374585 | 1 |\n",
       "| 838 | 2 |  0.56907159 | -0.01128317 |  0.151345397 |  0.73106062 | -0.099838198 | 0 |\n",
       "| 839 | 1 |  1.82163294 | -0.01128317 |  1.533332595 |  1.11908164 | -0.018004990 | 0 |\n",
       "| 840 | 1 | -0.68348976 |  0.30497368 | -0.801146373 | -0.77479391 |  0.225484484 | 0 |\n",
       "| 841 | 2 |  0.41250142 | -1.11818214 |  1.008587990 |  0.05261294 | -0.111072091 | 0 |\n",
       "| 842 | 4 |  0.25593125 |  0.62123053 |  0.198969986 | -0.12867883 |  0.120334796 | 0 |\n",
       "| 843 | 4 |  1.03878209 |  1.17338056 | -0.705897196 |  0.88184743 | -0.528732932 | 0 |\n",
       "| 844 | 1 | -0.52691959 | -0.96005371 | -0.658272608 | -0.45789573 | -0.713006453 | 0 |\n",
       "| 845 | 1 | -0.84005992 | -0.64379687 | -1.325016847 | -1.16341506 | -1.129385647 | 0 |\n",
       "| 846 | 1 |  0.56907159 |  1.09561580 | -0.420149665 | -0.96185876 | -0.991800181 | 0 |\n",
       "| 847 | 2 |  0.56907159 |  0.46310210 |  1.640677863 |  2.97732401 |  0.017712209 | 0 |\n",
       "| 848 | 1 |  0.72564176 |  0.46310210 | -0.134402134 | -0.45952450 |  0.427776223 | 0 |\n",
       "| 849 | 2 | -1.15320026 |  0.46310210 | -0.801146373 | -0.77659117 | -0.564503680 | 0 |\n",
       "| 850 | 1 |  1.82163294 |  0.77935895 |  0.008471631 | -0.27561110 |  0.946879437 | 0 |\n",
       "\n"
      ],
      "text/plain": [
       "    ed  employ      address     income       creddebt     othdebt      default\n",
       "1   3    1.35192243  0.62123053  1.100736725 -0.495926795  1.26546421  1      \n",
       "2   1    0.25593125 -0.32754002 -0.467774254  0.206021386  0.74654842  0      \n",
       "3   1    1.03878209  0.93748737  0.675215871 -0.320391795 -0.19667286  0      \n",
       "4   1    1.03878209  0.93748737  0.817694154  1.554505394 -0.89056781  0      \n",
       "5   2   -0.99663009 -1.27631056 -0.610648019  0.648299279  0.26036755  1      \n",
       "6   2   -0.52691959 -0.48566844 -0.753521785 -0.802339425 -0.20265850  0      \n",
       "7   1    1.82163294  0.14684525  1.246710933  2.776760985  1.62552705  0      \n",
       "8   1    0.56907159  0.46310210 -0.134402134 -1.077033193 -0.67527602  0      \n",
       "9   1   -0.84005992 -0.64379687 -1.039269316  0.202012913  0.37420454  1      \n",
       "10  1   -1.30977043  0.77935895 -0.753521785  1.678254256 -0.20780745  0      \n",
       "11  1   -1.30977043 -1.11818214 -1.182143081 -1.020952014 -1.26736346  0      \n",
       "12  1   -0.68348976 -1.27631056 -0.848770962 -0.948308582 -0.82756326  0      \n",
       "13  1    2.44791361  0.93748737  1.103837167  2.876323799 -0.04144505  0      \n",
       "14  1   -0.37034942  0.14684525 -0.563023431  0.573897069  0.23695788  0      \n",
       "15  1    2.13477327  1.09561580  2.818322353  2.641369454  1.46508468  0      \n",
       "16  2    0.09936108 -0.32754002  0.389468340 -0.360496287  0.43539048  1      \n",
       "17  2    0.72564176 -0.32754002  0.008471631  1.824402307  0.64613679  1      \n",
       "18  1    2.29134344  1.72812949  1.484833875  0.018546749  0.89548164  0      \n",
       "19  1   -0.37034942  0.14684525  0.960963402 -0.624928613  0.18682106  0      \n",
       "20  3   -1.30977043  2.04438634 -0.705897196 -1.107802955 -1.13683565  0      \n",
       "21  1    2.13477327 -0.80192529  0.532342105 -0.009676895 -1.05126431  0      \n",
       "22  1    1.35192243  2.04438634  0.103720808 -0.599677521 -0.37610173  0      \n",
       "23  1   -0.84005992 -0.32754002 -0.705897196 -0.761880266 -0.19694318  0      \n",
       "24  1   -0.05720908 -0.32754002 -0.658272608 -0.792466974 -0.15811601  0      \n",
       "25  2   -1.15320026 -0.96005371 -1.182143081 -0.959162869  0.04489246  1      \n",
       "26  4   -1.30977043 -0.96005371 -0.420149665  1.015160883  0.48448876  0      \n",
       "27  2    0.09936108  1.30656952  1.341960110 -0.475110115  0.70272214  0      \n",
       "28  1    2.60448378  2.04438634  1.103837167 -0.221420788  1.71578825  0      \n",
       "29  2    0.56907159 -0.01128317  0.818089636  1.997047467  2.59347178  0      \n",
       "30  3   -0.99663009 -1.11818214 -0.182026723 -0.997660435  1.28631023  0      \n",
       "... ... ...         ...         ...          ...          ...          ...    \n",
       "821 1    1.19535226 -1.27631056 -0.182026723  0.76034936  -0.205885862 0      \n",
       "822 1    0.09936108 -0.01128317  1.199086344  1.22365972   0.471892381 0      \n",
       "823 3   -0.05720908 -1.11818214  0.616903163  0.14463804   1.679759974 0      \n",
       "824 1   -0.52691959 -1.11818214  0.246594574 -0.65990654  -0.686115574 0      \n",
       "825 3   -0.21377925  1.25374422  1.770581406  2.06875275   1.280005860 0      \n",
       "826 2   -1.30977043 -0.16941159 -0.848770962  0.08100154  -1.005533447 0      \n",
       "827 2   -1.30977043 -1.27631056 -1.277392258 -0.95929392  -0.205281376 0      \n",
       "828 1    1.19535226 -0.01128317 -0.182026723 -1.12473132   0.282355608 0      \n",
       "829 1   -0.37034942  1.72812949 -0.515398842  0.26097720   0.676606182 0      \n",
       "830 4   -0.21377925  1.25374422  1.532458464 -0.63283115  -1.186094579 0      \n",
       "831 1    0.72564176  0.46310210 -0.753521785 -0.59063090  -0.655019038 0      \n",
       "832 3    1.19535226  0.30497368  0.897742246  0.25069287   2.374670468 0      \n",
       "833 2    1.03878209  1.72812949  1.198878594  0.06033305   0.970565613 0      \n",
       "834 1    1.19535226  1.72812949  1.586903001  0.83205882   2.825693306 0      \n",
       "835 1    0.25593125 -1.11818214  0.056096220 -0.12131505   0.007016821 0      \n",
       "836 1    1.66506277 -0.01128317  0.198969986 -0.25369139   1.016351573 0      \n",
       "837 2    0.72564176 -1.11818214  2.484950234  2.24434931   0.812374585 1      \n",
       "838 2    0.56907159 -0.01128317  0.151345397  0.73106062  -0.099838198 0      \n",
       "839 1    1.82163294 -0.01128317  1.533332595  1.11908164  -0.018004990 0      \n",
       "840 1   -0.68348976  0.30497368 -0.801146373 -0.77479391   0.225484484 0      \n",
       "841 2    0.41250142 -1.11818214  1.008587990  0.05261294  -0.111072091 0      \n",
       "842 4    0.25593125  0.62123053  0.198969986 -0.12867883   0.120334796 0      \n",
       "843 4    1.03878209  1.17338056 -0.705897196  0.88184743  -0.528732932 0      \n",
       "844 1   -0.52691959 -0.96005371 -0.658272608 -0.45789573  -0.713006453 0      \n",
       "845 1   -0.84005992 -0.64379687 -1.325016847 -1.16341506  -1.129385647 0      \n",
       "846 1    0.56907159  1.09561580 -0.420149665 -0.96185876  -0.991800181 0      \n",
       "847 2    0.56907159  0.46310210  1.640677863  2.97732401   0.017712209 0      \n",
       "848 1    0.72564176  0.46310210 -0.134402134 -0.45952450   0.427776223 0      \n",
       "849 2   -1.15320026  0.46310210 -0.801146373 -0.77659117  -0.564503680 0      \n",
       "850 1    1.82163294  0.77935895  0.008471631 -0.27561110   0.946879437 0      "
      ]
     },
     "metadata": {},
     "output_type": "display_data"
    }
   ],
   "source": [
    "# Dividing data into train and test using stratified sampling method.(Since, our target variable \"default\" is binary classification.(Yes or no)).\n",
    "\n",
    "# library(DataCombine)\n",
    "# set.seed(1234)\n",
    "\n",
    "set.seed(1234)\n",
    "train.index = createDataPartition(bld$default, p = .80, list = FALSE)\n",
    "# Above- list= false(we don't want repetitive observations in the training data,\n",
    "# responded =0.80(80% of observations in marketing_train),the func createData... will return indexes of the observations)\n",
    "train = bld[train.index,]\n",
    "test = bld[-train.index,]\n",
    "str(train)\n",
    "str(test)\n",
    "bld"
   ]
  },
  {
   "cell_type": "markdown",
   "metadata": {},
   "source": [
    "# Logistic Regression"
   ]
  },
  {
   "cell_type": "code",
   "execution_count": 18,
   "metadata": {
    "scrolled": true
   },
   "outputs": [
    {
     "data": {
      "text/plain": [
       "   LR_Predictions\n",
       "      0   1\n",
       "  0 124   6\n",
       "  1  28  11"
      ]
     },
     "metadata": {},
     "output_type": "display_data"
    },
    {
     "name": "stdout",
     "output_type": "stream",
     "text": [
      "Accuracy from Logistic Regression Model      79.88166\n",
      "Recall from Logistic Regression Model        28.20513[1] \"^-^\"\n"
     ]
    },
    {
     "data": {
      "text/html": [
       "<table>\n",
       "<caption>A data.frame: 2 × 4</caption>\n",
       "<thead>\n",
       "\t<tr><th scope=col>modnames</th><th scope=col>dsids</th><th scope=col>curvetypes</th><th scope=col>aucs</th></tr>\n",
       "\t<tr><th scope=col>&lt;chr&gt;</th><th scope=col>&lt;dbl&gt;</th><th scope=col>&lt;chr&gt;</th><th scope=col>&lt;dbl&gt;</th></tr>\n",
       "</thead>\n",
       "<tbody>\n",
       "\t<tr><td>m1</td><td>1</td><td>ROC</td><td>0.6179487</td></tr>\n",
       "\t<tr><td>m1</td><td>1</td><td>PRC</td><td>0.4001149</td></tr>\n",
       "</tbody>\n",
       "</table>\n"
      ],
      "text/latex": [
       "A data.frame: 2 × 4\n",
       "\\begin{tabular}{llll}\n",
       " modnames & dsids & curvetypes & aucs\\\\\n",
       " <chr> & <dbl> & <chr> & <dbl>\\\\\n",
       "\\hline\n",
       "\t m1 & 1 & ROC & 0.6179487\\\\\n",
       "\t m1 & 1 & PRC & 0.4001149\\\\\n",
       "\\end{tabular}\n"
      ],
      "text/markdown": [
       "\n",
       "A data.frame: 2 × 4\n",
       "\n",
       "| modnames &lt;chr&gt; | dsids &lt;dbl&gt; | curvetypes &lt;chr&gt; | aucs &lt;dbl&gt; |\n",
       "|---|---|---|---|\n",
       "| m1 | 1 | ROC | 0.6179487 |\n",
       "| m1 | 1 | PRC | 0.4001149 |\n",
       "\n"
      ],
      "text/plain": [
       "  modnames dsids curvetypes aucs     \n",
       "1 m1       1     ROC        0.6179487\n",
       "2 m1       1     PRC        0.4001149"
      ]
     },
     "metadata": {},
     "output_type": "display_data"
    },
    {
     "data": {
      "text/html": [
       "<span style=white-space:pre-wrap>'Area under PR-curve of Logistic Regression Model:  0.400114865970813'</span>"
      ],
      "text/latex": [
       "'Area under PR-curve of Logistic Regression Model:  0.400114865970813'"
      ],
      "text/markdown": [
       "<span style=white-space:pre-wrap>'Area under PR-curve of Logistic Regression Model:  0.400114865970813'</span>"
      ],
      "text/plain": [
       "[1] \"Area under PR-curve of Logistic Regression Model:  0.400114865970813\""
      ]
     },
     "metadata": {},
     "output_type": "display_data"
    },
    {
     "name": "stderr",
     "output_type": "stream",
     "text": [
      "Type 'citation(\"pROC\")' for a citation.\n",
      "\n",
      "\n",
      "Attaching package: 'pROC'\n",
      "\n",
      "\n",
      "The following objects are masked from 'package:stats':\n",
      "\n",
      "    cov, smooth, var\n",
      "\n",
      "\n",
      "Setting levels: control = 1, case = 2\n",
      "\n",
      "Setting direction: controls < cases\n",
      "\n",
      "Loading required package: Hmisc\n",
      "\n",
      "Loading required package: survival\n",
      "\n",
      "\n",
      "Attaching package: 'survival'\n",
      "\n",
      "\n",
      "The following objects are masked from 'package:sampling':\n",
      "\n",
      "    cluster, strata\n",
      "\n",
      "\n",
      "The following object is masked from 'package:caret':\n",
      "\n",
      "    cluster\n",
      "\n",
      "\n",
      "Loading required package: Formula\n",
      "\n",
      "\n",
      "Attaching package: 'Hmisc'\n",
      "\n",
      "\n",
      "The following object is masked from 'package:e1071':\n",
      "\n",
      "    impute\n",
      "\n",
      "\n",
      "The following object is masked from 'package:mlr':\n",
      "\n",
      "    impute\n",
      "\n",
      "\n",
      "The following objects are masked from 'package:base':\n",
      "\n",
      "    format.pval, units\n",
      "\n",
      "\n",
      "funModeling v.1.9.4 :)\n",
      "Examples and tutorials at livebook.datascienceheroes.com\n",
      " / Now in Spanish: librovivodecienciadedatos.ai\n",
      "\n"
     ]
    },
    {
     "data": {
      "image/png": "[encoded data removed]",
      "text/plain": [
       "plot without title"
      ]
     },
     "metadata": {
      "image/png": {
       "height": 420,
       "width": 420
      },
      "text/plain": {
       "height": 420,
       "width": 420
      }
     },
     "output_type": "display_data"
    },
    {
     "name": "stdout",
     "output_type": "stream",
     "text": [
      "   Population   Gain Lift Score.Point\n",
      "1          10  64.71 6.47           2\n",
      "2          20  64.71 3.24           2\n",
      "3          30 100.00 3.33           1\n",
      "4          40 100.00 2.50           1\n",
      "5          50 100.00 2.00           1\n",
      "6          60 100.00 1.67           1\n",
      "7          70 100.00 1.43           1\n",
      "8          80 100.00 1.25           1\n",
      "9          90 100.00 1.11           1\n",
      "10        100 100.00 1.00           1\n"
     ]
    },
    {
     "data": {
      "image/png": "[encoded data removed]",
      "text/plain": [
       "plot without title"
      ]
     },
     "metadata": {
      "image/png": {
       "height": 420,
       "width": 420
      },
      "text/plain": {
       "height": 420,
       "width": 420
      }
     },
     "output_type": "display_data"
    }
   ],
   "source": [
    "################### Logistic Regression #####################\n",
    "\n",
    "# Logistic regresion.family = \"binomial\" means only two choices available i.e. yes or no.\n",
    "# if we've let say three choices say rich,poor,medium then family = \"multinomial\".\n",
    "\n",
    "# B-converting of variables is necessary so as to get different results for each sub-category. \n",
    "# cnames=c(\"profession\",\"marital\",\"schooling\",\"default\",\"contact\",\"month\",\"poutcome\")\n",
    "train_sample = train\n",
    "test_sample = test\n",
    "\n",
    "# for(i in cnames)\n",
    "# {\n",
    "#   train[,i] = as.factor(train[,i])\n",
    "#   test[,i] = as.factor(test[,i])\n",
    "  \n",
    "# }\n",
    "LR_model = glm(formula = default ~ . , data = train , family = \"binomial\")\n",
    "\n",
    "# summary of the model.\n",
    "# summary(LR_model)\n",
    "# A-to check performance of the model check the difference betweem null deviance and residual deviance,\n",
    "# if it is high then it means a good model else not.\n",
    "\n",
    "# predict using logistic regression.\n",
    "# B - type = \"response\" will give probabilities.\n",
    "LR_Predictions = predict(LR_model, newdata = test, type = \"response\")\n",
    "\n",
    "# Convert probabilities.\n",
    "LR_Predictions = ifelse(LR_Predictions > 0.5, 1 , 0)\n",
    "\n",
    "## Evaluate the performance of the classification model.\n",
    "ConfMatrix_LR = table(test$default, LR_Predictions)\n",
    "\n",
    "cm=confusionMatrix(ConfMatrix_LR)\n",
    "# Evaluating the performance of or model, by making a contingency table. The(1,1) represent True negative.\n",
    "#(2,1)-False negative; all of this depends upon the target variable,here 1 implies negative and 2 implies +ve.\n",
    "\n",
    "# cm\n",
    "ConfMatrix_LR\n",
    "\n",
    "TN=ConfMatrix_LR[1,1]\n",
    "FP=ConfMatrix_LR[1,2]\n",
    "FN=ConfMatrix_LR[2,1]\n",
    "TP=ConfMatrix_LR[2,2]\n",
    "\n",
    "# Accuracy\n",
    "AC = (TP + TN)/(TP + TN + FN + FP)\n",
    "cat(\"Accuracy from Logistic Regression Model     \",AC*100)\n",
    "# Recall\n",
    "FNR = TP/(FN + TP) \n",
    "cat(\"\\nRecall from Logistic Regression Model       \",FNR*100)\n",
    "\n",
    "\n",
    "########################## PR ##########################\n",
    "\n",
    "library(precrec)\n",
    "library(ggplot2)  \n",
    "# Calculate ROC and Precision-Recall curves\n",
    "LR_pr = evalmod(scores = as.numeric(LR_Predictions), labels = as.numeric(test$default))\n",
    "# au0sc = as.data.frame(XGB_pr)\n",
    "aucs<-auc(LR_pr)\n",
    "print(\"^-^\")   \n",
    "aucs\n",
    "autoplot(LR_pr, \"PRC\", color=c(\"yellow\"),add=TRUE, lwd = 10 ,auc.main = FALSE) \n",
    "paste(\"Area under PR-curve of Logistic Regression Model: \", aucs[2,'aucs'])\n",
    "\n",
    "######################## ROC ############################\n",
    "\n",
    "detach(\"package:precrec\", unload=TRUE)\n",
    "library(pROC)\n",
    "LR_roc=roc(as.numeric(test$default), as.numeric(LR_Predictions))\n",
    "LR_roc_auc=auc(LR_roc)\n",
    "# LR_roc_auc = aucs[1,'aucs']\n",
    "\n",
    "######################## GL ##############################\n",
    "\n",
    "library(funModeling)\n",
    "df=data.frame(actual=as.numeric(test$default), predicted=as.numeric(LR_Predictions))\n",
    "gain_lift(data=df, score='actual', target='predicted')\n",
    "# str(df)"
   ]
  },
  {
   "cell_type": "markdown",
   "metadata": {},
   "source": [
    "## For input data"
   ]
  },
  {
   "cell_type": "code",
   "execution_count": 19,
   "metadata": {},
   "outputs": [
    {
     "name": "stdout",
     "output_type": "stream",
     "text": [
      "Default value from Logistic Regression for input data is: 0"
     ]
    }
   ],
   "source": [
    "# B - type = \"response\" will give probabilities.\n",
    "LR_Predictions = predict(LR_model, newdata = input_data, type = \"response\")\n",
    "\n",
    "LR_Predictions = ifelse(LR_Predictions > 0.5, 1 , 0)\n",
    "cat(\"Default value from Logistic Regression for input data is:\",LR_Predictions)"
   ]
  },
  {
   "cell_type": "code",
   "execution_count": 20,
   "metadata": {},
   "outputs": [
    {
     "name": "stdout",
     "output_type": "stream",
     "text": [
      " Factor w/ 2 levels \"0\",\"1\": 1 1 1 1 1 2 1 1 2 1 ...\n",
      " Named num 0\n",
      " - attr(*, \"names\")= chr \"851\"\n"
     ]
    },
    {
     "data": {
      "text/html": [
       "<style>\n",
       ".list-inline {list-style: none; margin:0; padding: 0}\n",
       ".list-inline>li {display: inline-block}\n",
       ".list-inline>li:not(:last-child)::after {content: \"\\00b7\"; padding: 0 .5ex}\n",
       "</style>\n",
       "<ol class=list-inline><li>0</li><li>0</li><li>0</li><li>0</li><li>0</li><li>1</li><li>0</li><li>0</li><li>1</li><li>0</li><li>0</li><li>0</li><li>0</li><li>0</li><li>0</li><li>0</li><li>0</li><li>0</li><li>0</li><li>0</li><li>1</li><li>0</li><li>0</li><li>0</li><li>0</li><li>0</li><li>0</li><li>0</li><li>0</li><li>1</li><li>1</li><li>1</li><li>0</li><li>0</li><li>0</li><li>0</li><li>0</li><li>1</li><li>1</li><li>0</li><li>0</li><li>0</li><li>0</li><li>1</li><li>0</li><li>1</li><li>1</li><li>1</li><li>0</li><li>0</li><li>0</li><li>1</li><li>0</li><li>0</li><li>1</li><li>1</li><li>0</li><li>0</li><li>0</li><li>0</li><li>0</li><li>0</li><li>0</li><li>0</li><li>1</li><li>1</li><li>0</li><li>0</li><li>0</li><li>0</li><li>0</li><li>1</li><li>1</li><li>0</li><li>0</li><li>1</li><li>0</li><li>1</li><li>1</li><li>0</li><li>1</li><li>1</li><li>0</li><li>0</li><li>0</li><li>0</li><li>1</li><li>1</li><li>0</li><li>0</li><li>0</li><li>0</li><li>1</li><li>0</li><li>1</li><li>0</li><li>0</li><li>0</li><li>0</li><li>1</li><li>0</li><li>0</li><li>0</li><li>1</li><li>1</li><li>0</li><li>0</li><li>0</li><li>0</li><li>0</li><li>0</li><li>0</li><li>0</li><li>0</li><li>0</li><li>0</li><li>0</li><li>0</li><li>0</li><li>0</li><li>0</li><li>1</li><li>0</li><li>1</li><li>0</li><li>1</li><li>1</li><li>0</li><li>0</li><li>0</li><li>0</li><li>0</li><li>1</li><li>0</li><li>0</li><li>0</li><li>0</li><li>0</li><li>0</li><li>0</li><li>1</li><li>1</li><li>0</li><li>0</li><li>0</li><li>0</li><li>0</li><li>0</li><li>0</li><li>0</li><li>0</li><li>0</li><li>0</li><li>0</li><li>0</li><li>0</li><li>0</li><li>0</li><li>0</li><li>0</li><li>0</li><li>0</li><li>0</li><li>0</li><li>0</li><li>0</li><li>1</li><li>0</li><li>0</li></ol>\n",
       "\n",
       "<details>\n",
       "\t<summary style=display:list-item;cursor:pointer>\n",
       "\t\t<strong>Levels</strong>:\n",
       "\t</summary>\n",
       "\t<style>\n",
       "\t.list-inline {list-style: none; margin:0; padding: 0}\n",
       "\t.list-inline>li {display: inline-block}\n",
       "\t.list-inline>li:not(:last-child)::after {content: \"\\00b7\"; padding: 0 .5ex}\n",
       "\t</style>\n",
       "\t<ol class=list-inline><li>'0'</li><li>'1'</li></ol>\n",
       "</details>"
      ],
      "text/latex": [
       "\\begin{enumerate*}\n",
       "\\item 0\n",
       "\\item 0\n",
       "\\item 0\n",
       "\\item 0\n",
       "\\item 0\n",
       "\\item 1\n",
       "\\item 0\n",
       "\\item 0\n",
       "\\item 1\n",
       "\\item 0\n",
       "\\item 0\n",
       "\\item 0\n",
       "\\item 0\n",
       "\\item 0\n",
       "\\item 0\n",
       "\\item 0\n",
       "\\item 0\n",
       "\\item 0\n",
       "\\item 0\n",
       "\\item 0\n",
       "\\item 1\n",
       "\\item 0\n",
       "\\item 0\n",
       "\\item 0\n",
       "\\item 0\n",
       "\\item 0\n",
       "\\item 0\n",
       "\\item 0\n",
       "\\item 0\n",
       "\\item 1\n",
       "\\item 1\n",
       "\\item 1\n",
       "\\item 0\n",
       "\\item 0\n",
       "\\item 0\n",
       "\\item 0\n",
       "\\item 0\n",
       "\\item 1\n",
       "\\item 1\n",
       "\\item 0\n",
       "\\item 0\n",
       "\\item 0\n",
       "\\item 0\n",
       "\\item 1\n",
       "\\item 0\n",
       "\\item 1\n",
       "\\item 1\n",
       "\\item 1\n",
       "\\item 0\n",
       "\\item 0\n",
       "\\item 0\n",
       "\\item 1\n",
       "\\item 0\n",
       "\\item 0\n",
       "\\item 1\n",
       "\\item 1\n",
       "\\item 0\n",
       "\\item 0\n",
       "\\item 0\n",
       "\\item 0\n",
       "\\item 0\n",
       "\\item 0\n",
       "\\item 0\n",
       "\\item 0\n",
       "\\item 1\n",
       "\\item 1\n",
       "\\item 0\n",
       "\\item 0\n",
       "\\item 0\n",
       "\\item 0\n",
       "\\item 0\n",
       "\\item 1\n",
       "\\item 1\n",
       "\\item 0\n",
       "\\item 0\n",
       "\\item 1\n",
       "\\item 0\n",
       "\\item 1\n",
       "\\item 1\n",
       "\\item 0\n",
       "\\item 1\n",
       "\\item 1\n",
       "\\item 0\n",
       "\\item 0\n",
       "\\item 0\n",
       "\\item 0\n",
       "\\item 1\n",
       "\\item 1\n",
       "\\item 0\n",
       "\\item 0\n",
       "\\item 0\n",
       "\\item 0\n",
       "\\item 1\n",
       "\\item 0\n",
       "\\item 1\n",
       "\\item 0\n",
       "\\item 0\n",
       "\\item 0\n",
       "\\item 0\n",
       "\\item 1\n",
       "\\item 0\n",
       "\\item 0\n",
       "\\item 0\n",
       "\\item 1\n",
       "\\item 1\n",
       "\\item 0\n",
       "\\item 0\n",
       "\\item 0\n",
       "\\item 0\n",
       "\\item 0\n",
       "\\item 0\n",
       "\\item 0\n",
       "\\item 0\n",
       "\\item 0\n",
       "\\item 0\n",
       "\\item 0\n",
       "\\item 0\n",
       "\\item 0\n",
       "\\item 0\n",
       "\\item 0\n",
       "\\item 0\n",
       "\\item 1\n",
       "\\item 0\n",
       "\\item 1\n",
       "\\item 0\n",
       "\\item 1\n",
       "\\item 1\n",
       "\\item 0\n",
       "\\item 0\n",
       "\\item 0\n",
       "\\item 0\n",
       "\\item 0\n",
       "\\item 1\n",
       "\\item 0\n",
       "\\item 0\n",
       "\\item 0\n",
       "\\item 0\n",
       "\\item 0\n",
       "\\item 0\n",
       "\\item 0\n",
       "\\item 1\n",
       "\\item 1\n",
       "\\item 0\n",
       "\\item 0\n",
       "\\item 0\n",
       "\\item 0\n",
       "\\item 0\n",
       "\\item 0\n",
       "\\item 0\n",
       "\\item 0\n",
       "\\item 0\n",
       "\\item 0\n",
       "\\item 0\n",
       "\\item 0\n",
       "\\item 0\n",
       "\\item 0\n",
       "\\item 0\n",
       "\\item 0\n",
       "\\item 0\n",
       "\\item 0\n",
       "\\item 0\n",
       "\\item 0\n",
       "\\item 0\n",
       "\\item 0\n",
       "\\item 0\n",
       "\\item 0\n",
       "\\item 1\n",
       "\\item 0\n",
       "\\item 0\n",
       "\\end{enumerate*}\n",
       "\n",
       "\\emph{Levels}: \\begin{enumerate*}\n",
       "\\item '0'\n",
       "\\item '1'\n",
       "\\end{enumerate*}\n"
      ],
      "text/markdown": [
       "1. 0\n",
       "2. 0\n",
       "3. 0\n",
       "4. 0\n",
       "5. 0\n",
       "6. 1\n",
       "7. 0\n",
       "8. 0\n",
       "9. 1\n",
       "10. 0\n",
       "11. 0\n",
       "12. 0\n",
       "13. 0\n",
       "14. 0\n",
       "15. 0\n",
       "16. 0\n",
       "17. 0\n",
       "18. 0\n",
       "19. 0\n",
       "20. 0\n",
       "21. 1\n",
       "22. 0\n",
       "23. 0\n",
       "24. 0\n",
       "25. 0\n",
       "26. 0\n",
       "27. 0\n",
       "28. 0\n",
       "29. 0\n",
       "30. 1\n",
       "31. 1\n",
       "32. 1\n",
       "33. 0\n",
       "34. 0\n",
       "35. 0\n",
       "36. 0\n",
       "37. 0\n",
       "38. 1\n",
       "39. 1\n",
       "40. 0\n",
       "41. 0\n",
       "42. 0\n",
       "43. 0\n",
       "44. 1\n",
       "45. 0\n",
       "46. 1\n",
       "47. 1\n",
       "48. 1\n",
       "49. 0\n",
       "50. 0\n",
       "51. 0\n",
       "52. 1\n",
       "53. 0\n",
       "54. 0\n",
       "55. 1\n",
       "56. 1\n",
       "57. 0\n",
       "58. 0\n",
       "59. 0\n",
       "60. 0\n",
       "61. 0\n",
       "62. 0\n",
       "63. 0\n",
       "64. 0\n",
       "65. 1\n",
       "66. 1\n",
       "67. 0\n",
       "68. 0\n",
       "69. 0\n",
       "70. 0\n",
       "71. 0\n",
       "72. 1\n",
       "73. 1\n",
       "74. 0\n",
       "75. 0\n",
       "76. 1\n",
       "77. 0\n",
       "78. 1\n",
       "79. 1\n",
       "80. 0\n",
       "81. 1\n",
       "82. 1\n",
       "83. 0\n",
       "84. 0\n",
       "85. 0\n",
       "86. 0\n",
       "87. 1\n",
       "88. 1\n",
       "89. 0\n",
       "90. 0\n",
       "91. 0\n",
       "92. 0\n",
       "93. 1\n",
       "94. 0\n",
       "95. 1\n",
       "96. 0\n",
       "97. 0\n",
       "98. 0\n",
       "99. 0\n",
       "100. 1\n",
       "101. 0\n",
       "102. 0\n",
       "103. 0\n",
       "104. 1\n",
       "105. 1\n",
       "106. 0\n",
       "107. 0\n",
       "108. 0\n",
       "109. 0\n",
       "110. 0\n",
       "111. 0\n",
       "112. 0\n",
       "113. 0\n",
       "114. 0\n",
       "115. 0\n",
       "116. 0\n",
       "117. 0\n",
       "118. 0\n",
       "119. 0\n",
       "120. 0\n",
       "121. 0\n",
       "122. 1\n",
       "123. 0\n",
       "124. 1\n",
       "125. 0\n",
       "126. 1\n",
       "127. 1\n",
       "128. 0\n",
       "129. 0\n",
       "130. 0\n",
       "131. 0\n",
       "132. 0\n",
       "133. 1\n",
       "134. 0\n",
       "135. 0\n",
       "136. 0\n",
       "137. 0\n",
       "138. 0\n",
       "139. 0\n",
       "140. 0\n",
       "141. 1\n",
       "142. 1\n",
       "143. 0\n",
       "144. 0\n",
       "145. 0\n",
       "146. 0\n",
       "147. 0\n",
       "148. 0\n",
       "149. 0\n",
       "150. 0\n",
       "151. 0\n",
       "152. 0\n",
       "153. 0\n",
       "154. 0\n",
       "155. 0\n",
       "156. 0\n",
       "157. 0\n",
       "158. 0\n",
       "159. 0\n",
       "160. 0\n",
       "161. 0\n",
       "162. 0\n",
       "163. 0\n",
       "164. 0\n",
       "165. 0\n",
       "166. 0\n",
       "167. 1\n",
       "168. 0\n",
       "169. 0\n",
       "\n",
       "\n",
       "\n",
       "**Levels**: 1. '0'\n",
       "2. '1'\n",
       "\n",
       "\n"
      ],
      "text/plain": [
       "  [1] 0 0 0 0 0 1 0 0 1 0 0 0 0 0 0 0 0 0 0 0 1 0 0 0 0 0 0 0 0 1 1 1 0 0 0 0 0\n",
       " [38] 1 1 0 0 0 0 1 0 1 1 1 0 0 0 1 0 0 1 1 0 0 0 0 0 0 0 0 1 1 0 0 0 0 0 1 1 0\n",
       " [75] 0 1 0 1 1 0 1 1 0 0 0 0 1 1 0 0 0 0 1 0 1 0 0 0 0 1 0 0 0 1 1 0 0 0 0 0 0\n",
       "[112] 0 0 0 0 0 0 0 0 0 0 1 0 1 0 1 1 0 0 0 0 0 1 0 0 0 0 0 0 0 1 1 0 0 0 0 0 0\n",
       "[149] 0 0 0 0 0 0 0 0 0 0 0 0 0 0 0 0 0 0 1 0 0\n",
       "Levels: 0 1"
      ]
     },
     "metadata": {},
     "output_type": "display_data"
    },
    {
     "data": {
      "text/html": [
       "<strong>851:</strong> 0"
      ],
      "text/latex": [
       "\\textbf{851:} 0"
      ],
      "text/markdown": [
       "**851:** 0"
      ],
      "text/plain": [
       "851 \n",
       "  0 "
      ]
     },
     "metadata": {},
     "output_type": "display_data"
    }
   ],
   "source": [
    "str(test$default)\n",
    "str(LR_Predictions)\n",
    "test$default\n",
    "LR_Predictions"
   ]
  },
  {
   "cell_type": "markdown",
   "metadata": {},
   "source": [
    "# Decision Tree Classification"
   ]
  },
  {
   "cell_type": "code",
   "execution_count": 21,
   "metadata": {
    "scrolled": true
   },
   "outputs": [
    {
     "data": {
      "text/plain": [
       "   DT_Predictions\n",
       "      0   1\n",
       "  0 106  11\n",
       "  1  28   7"
      ]
     },
     "metadata": {},
     "output_type": "display_data"
    },
    {
     "name": "stdout",
     "output_type": "stream",
     "text": [
      "Accuracy from DT Model      74.34211\n",
      "Recall from DT Model        20"
     ]
    },
    {
     "name": "stderr",
     "output_type": "stream",
     "text": [
      "\n",
      "Attaching package: 'precrec'\n",
      "\n",
      "\n",
      "The following object is masked from 'package:pROC':\n",
      "\n",
      "    auc\n",
      "\n",
      "\n"
     ]
    },
    {
     "name": "stdout",
     "output_type": "stream",
     "text": [
      "[1] \"^-^\"\n",
      "Area under PR-curve of Decision Tree Model is 0.2861959"
     ]
    },
    {
     "name": "stderr",
     "output_type": "stream",
     "text": [
      "Setting levels: control = 1, case = 2\n",
      "\n",
      "Setting direction: controls < cases\n",
      "\n"
     ]
    },
    {
     "data": {
      "image/png": "[encoded data removed]",
      "text/plain": [
       "Plot with title \"Precision-Recall - P: 35, N: 117\""
      ]
     },
     "metadata": {
      "image/png": {
       "height": 420,
       "width": 420
      },
      "text/plain": {
       "height": 420,
       "width": 420
      }
     },
     "output_type": "display_data"
    },
    {
     "name": "stdout",
     "output_type": "stream",
     "text": [
      "   Population   Gain Lift Score.Point\n",
      "1          10  38.89 3.89           2\n",
      "2          20  38.89 1.94           2\n",
      "3          30 100.00 3.33           1\n",
      "4          40 100.00 2.50           1\n",
      "5          50 100.00 2.00           1\n",
      "6          60 100.00 1.67           1\n",
      "7          70 100.00 1.43           1\n",
      "8          80 100.00 1.25           1\n",
      "9          90 100.00 1.11           1\n",
      "10        100 100.00 1.00           1\n"
     ]
    },
    {
     "data": {
      "image/png": "[encoded data removed]",
      "text/plain": [
       "plot without title"
      ]
     },
     "metadata": {
      "image/png": {
       "height": 420,
       "width": 420
      },
      "text/plain": {
       "height": 420,
       "width": 420
      }
     },
     "output_type": "display_data"
    }
   ],
   "source": [
    "\n",
    "# Data divided in train and test.\n",
    "set.seed(1234)\n",
    "train.index = createDataPartition(bld$default, p = .82, list = FALSE)\n",
    "# Above- list= false(we don't want repetitive observations in the training data,\n",
    "# responded =0.80(80% of observations in marketing_train),the func createData... will return indexes of the observations)\n",
    "train = bld[train.index,]\n",
    "test = bld[-train.index,]\n",
    "\n",
    "\n",
    "# Decision tree for classification\n",
    "# Develop model on training data.\n",
    "DT_model = C5.0(default ~.,train, trials = 100, rules = TRUE)\n",
    "# Above- '.'means remaining all are independent variables.it could have been like \n",
    "# C5.0(responded ~ profession + campaign),trials = 100 means built 100 dec..trees and select the best one from it,\n",
    "# rules = TRUE, means extract buiseness rules from decision trees.\n",
    "# summary(C50_model)\n",
    "\n",
    "\n",
    "write(capture.output(summary(DT_model)),\"c50Rules_bld.txt\")\n",
    "# Above-Write rules of the model into disk.\n",
    "\n",
    "DT_Predictions = predict(DT_model, test[,-length(names(bld))], type= \"class\",)\n",
    "# Above-Lets predict for test cases, by removing the last variable(i.e default)\n",
    "# we can also write type = \"prob\" for probability.\n",
    "\n",
    "ConfMatrix_DT = table(test$default,DT_Predictions)\n",
    "cm=confusionMatrix(ConfMatrix_DT)\n",
    "# Evaluating the performance of or model, by making a contingency table. The(1,1) represent True negative.\n",
    "#(2,1)-False negative; all of this depends upon the target variable,here 1 implies negative and 2 implies +ve.\n",
    "\n",
    "# cm\n",
    "ConfMatrix_DT\n",
    "\n",
    "TN=ConfMatrix_DT[1,1]\n",
    "FP=ConfMatrix_DT[1,2]\n",
    "FN=ConfMatrix_DT[2,1]\n",
    "TP=ConfMatrix_DT[2,2]\n",
    "\n",
    "# Accuracy\n",
    "AC = (TP + TN)/(TP + TN + FN + FP)\n",
    "cat(\"Accuracy from DT Model     \",AC*100)\n",
    "# Recall.\n",
    "Recall = TP/(FN + TP) \n",
    "cat(\"\\nRecall from DT Model       \",Recall*100)\n",
    "\n",
    "\n",
    "########################## PR ##########################\n",
    "\n",
    "library(precrec)\n",
    "library(ggplot2)  \n",
    "# Calculate ROC and Precision-Recall curves\n",
    "DT_pr = evalmod(scores = as.numeric(DT_Predictions), labels = as.numeric(test$default))\n",
    "aucs<-auc(DT_pr)\n",
    "print(\"^-^\")   \n",
    "# aucs\n",
    "plot(DT_pr, \"PRC\", color=c(\"yellow\"),add=TRUE  ,auc.main = FALSE) \n",
    "cat(\"Area under PR-curve of Decision Tree Model is\",aucs[2,'aucs'])\n",
    "\n",
    "######################## ROC ############################\n",
    "\n",
    "detach(\"package:precrec\", unload=TRUE)\n",
    "library(pROC)\n",
    "DT_roc=roc(as.numeric(test$default), as.numeric(DT_Predictions))\n",
    "DT_roc_auc=auc(DT_roc)\n",
    "# DT_roc_auc = aucs[1,'aucs']\n",
    "# DT_roc_auc\n",
    "\n",
    "\n",
    "\n",
    "# library(pROC)\n",
    "# RF_roc <- roc(as.numeric(test$default), as.numeric(RF_Predictions))\n",
    "# # Area Under Curve (AUC) for each ROC curve (higher -> better)\n",
    "# # RF_auc <- auc(RF_roc)\n",
    "# RF_roc_auc = aucs[1,'aucs']\n",
    "# # # plot ROC curves\n",
    "# # plot(RF_roc, col = \"green\", main = \"ROC For Random Forest (GREEN)\")\n",
    "# plot(RF_pr, \"ROC\", col=c(\"blue\"), lwd=10) \n",
    "\n",
    "# # AUC\n",
    "# paste(\"Area under ROC-curve of random forest: \", RF_roc_auc)\n",
    "\n",
    "########################## GL #############################\n",
    "\n",
    "library(funModeling)\n",
    "df=data.frame(actual=as.numeric(test$default), predicted=as.numeric(DT_Predictions))\n",
    "gain_lift(data=df, score='actual', target='predicted')\n"
   ]
  },
  {
   "cell_type": "markdown",
   "metadata": {},
   "source": [
    "## For input data"
   ]
  },
  {
   "cell_type": "code",
   "execution_count": 22,
   "metadata": {},
   "outputs": [
    {
     "name": "stdout",
     "output_type": "stream",
     "text": [
      "Default value from Logistic Regression for input data is: 0"
     ]
    }
   ],
   "source": [
    "DT_Predictions = predict(DT_model, input_data[,-length(names(input_data))], type= \"prob\")\n",
    "\n",
    "DT_Predictions = ifelse(LR_Predictions > 0.5, 1 , 0)\n",
    "cat(\"Default value from Logistic Regression for input data is:\",DT_Predictions)"
   ]
  },
  {
   "cell_type": "markdown",
   "metadata": {},
   "source": [
    "# Random Forest Model"
   ]
  },
  {
   "cell_type": "code",
   "execution_count": 23,
   "metadata": {},
   "outputs": [],
   "source": [
    "# head(temp_df)"
   ]
  },
  {
   "cell_type": "code",
   "execution_count": 24,
   "metadata": {},
   "outputs": [
    {
     "name": "stdout",
     "output_type": "stream",
     "text": [
      "3961 rules (length<=6) were extracted from the first 100 trees.\n",
      "Accuracy from RF Model      78.28947\n",
      "Recall from RF Model        28.57143"
     ]
    },
    {
     "name": "stderr",
     "output_type": "stream",
     "text": [
      "\n",
      "Attaching package: 'precrec'\n",
      "\n",
      "\n",
      "The following object is masked from 'package:pROC':\n",
      "\n",
      "    auc\n",
      "\n",
      "\n"
     ]
    },
    {
     "name": "stdout",
     "output_type": "stream",
     "text": [
      "Area under PR-Curve of Random Forest model : 0.3675275"
     ]
    },
    {
     "name": "stderr",
     "output_type": "stream",
     "text": [
      "Setting levels: control = 0, case = 1\n",
      "\n",
      "Setting direction: controls < cases\n",
      "\n"
     ]
    },
    {
     "data": {
      "image/png": "[encoded data removed]",
      "text/plain": [
       "Plot with title \"Precision-Recall - P: 35, N: 117\""
      ]
     },
     "metadata": {
      "image/png": {
       "height": 420,
       "width": 420
      },
      "text/plain": {
       "height": 420,
       "width": 420
      }
     },
     "output_type": "display_data"
    },
    {
     "name": "stdout",
     "output_type": "stream",
     "text": [
      "   Population   Gain Lift Score.Point\n",
      "1          10  55.56 5.56           2\n",
      "2          20  55.56 2.78           2\n",
      "3          30 100.00 3.33           1\n",
      "4          40 100.00 2.50           1\n",
      "5          50 100.00 2.00           1\n",
      "6          60 100.00 1.67           1\n",
      "7          70 100.00 1.43           1\n",
      "8          80 100.00 1.25           1\n",
      "9          90 100.00 1.11           1\n",
      "10        100 100.00 1.00           1\n"
     ]
    },
    {
     "data": {
      "image/png": "[encoded data removed]",
      "text/plain": [
       "plot without title"
      ]
     },
     "metadata": {
      "image/png": {
       "height": 420,
       "width": 420
      },
      "text/plain": {
       "height": 420,
       "width": 420
      }
     },
     "output_type": "display_data"
    }
   ],
   "source": [
    "# B - Calculating the important variables(that give useful data).We can also give more arguments to improve our model.\n",
    "RF_model = randomForest(default ~ .,train ,importance = TRUE, ntree = 490 )\n",
    " \n",
    "#--- \n",
    "## Extract rules from random forest.\n",
    "## transform 'RF_model' object to an intrees format.\n",
    "\n",
    "treeList = RF2List(RF_model)\n",
    " \n",
    "## Extract rules\n",
    "## B- excluding the 17th variable.\n",
    "exec = extractRules(treeList, train[,-length(names(bld))])\n",
    "\n",
    "## visualize  some rules.\n",
    "# exec[1:2,]\n",
    "\n",
    "## Make rules more readable.\n",
    "readableRules = presentRules(exec,colnames(train))\n",
    "# readableRules[1:2,]\n",
    "\n",
    "## Get rule metrics.\n",
    "ruleMetric = getRuleMetric(exec, train[,-length(names(bld))], train$default)\n",
    "\n",
    "## Evaluate few rules.\n",
    "## len - no. of columns in every rule, freq - occurence of a rule in the dataset, err- how many rows denied the rule(just multiply by 100 for %)\n",
    "# ruleMetric[1:2,]\n",
    "\n",
    "\n",
    "RF_Predictions = predict(RF_model, test)\n",
    "\n",
    "# RF_Predictions[,2]=ifelse(RF_Predictions[,2]>0.5 ,1,0)\n",
    "ConfMatrix_RF = table(test$default,RF_Predictions)\n",
    "cm=confusionMatrix(ConfMatrix_RF)\n",
    "# Evaluating the performance of or model, by making a contingency table. The(1,1) represent True negative.\n",
    "#(2,1)-False negative; all of this depends upon the target variable,here 1 implies negative and 2 implies +ve.\n",
    "\n",
    "# cm\n",
    "# ConfMatrix_C50\n",
    "\n",
    "# TN=ConfMatrix_RF[1,1]\n",
    "# FP=ConfMatrix_RF[1,2]\n",
    "# FN=ConfMatrix_RF[2,1]\n",
    "# TP=ConfMatrix_RF[2,2]\n",
    "\n",
    "TN=ConfMatrix_RF[1,1]\n",
    "FP=ConfMatrix_RF[1,2]\n",
    "FN=ConfMatrix_RF[2,1]\n",
    "TP=ConfMatrix_RF[2,2]\n",
    "\n",
    "# Accuracy\n",
    "AC = (TP + TN)/(TP + TN + FN + FP)\n",
    "cat(\"Accuracy from RF Model     \",AC*100)\n",
    "# Recall.\n",
    "Recall = TP/(FN + TP) \n",
    "cat(\"\\nRecall from RF Model       \",Recall*100)\n",
    "\n",
    "########################## PR ###########################\n",
    "\n",
    "library(precrec)\n",
    "library(ggplot2)  \n",
    "# Calculate ROC and Precision-Recall curves\n",
    "RF_pr = evalmod(scores = as.numeric(RF_Predictions), labels = as.numeric(test$default))\n",
    "# au0sc = as.data.frame(XGB_pr)\n",
    "aucs<-auc(RF_pr)\n",
    "# print(\"^-^\")   \n",
    "# aucs\n",
    "plot(RF_pr, \"PRC\", color=c(\"yellow\"),add=TRUE, lwd = 10 ,auc.main = FALSE) \n",
    "cat(\"Area under PR-Curve of Random Forest model :\",aucs[2,'aucs'])     \n",
    "\n",
    "######################### ROC ######################### \n",
    "\n",
    "detach(\"package:precrec\", unload=TRUE)\n",
    "library(pROC)\n",
    "RF_roc = roc(as.ordered(test$default), as.ordered(RF_Predictions))\n",
    "RF_roc_auc = auc(RF_roc)\n",
    "# RF_roc_auc\n",
    "\n",
    "########################## GL ###############################\n",
    "\n",
    "library(funModeling)\n",
    "df=data.frame(actual=as.numeric(test$default), predicted=as.numeric(RF_Predictions))\n",
    "gain_lift(data=df, score='actual', target='predicted')\n",
    "\n"
   ]
  },
  {
   "cell_type": "markdown",
   "metadata": {
    "scrolled": true
   },
   "source": [
    " ## For input data"
   ]
  },
  {
   "cell_type": "code",
   "execution_count": 25,
   "metadata": {},
   "outputs": [
    {
     "name": "stdout",
     "output_type": "stream",
     "text": [
      "Default value from Logistic Regression for input data is: 1"
     ]
    }
   ],
   "source": [
    "RF_Predictions = predict(RF_model, input_data)\n",
    "RF_Predictions = ifelse(as.numeric(RF_Predictions) == 2, 1 , 0)\n",
    "cat(\"Default value from Logistic Regression for input data is:\",RF_Predictions)"
   ]
  },
  {
   "cell_type": "markdown",
   "metadata": {},
   "source": [
    "# KNN Model"
   ]
  },
  {
   "cell_type": "code",
   "execution_count": 26,
   "metadata": {},
   "outputs": [
    {
     "data": {
      "text/plain": [
       "               \n",
       "KNN_Predictions   0   1\n",
       "              0 127   8\n",
       "              1   3  31"
      ]
     },
     "metadata": {},
     "output_type": "display_data"
    },
    {
     "name": "stdout",
     "output_type": "stream",
     "text": [
      "Accuracy from KNN Model      93.49112\n",
      "Recall from KNN Model        91.17647[1] \"^-^\"\n"
     ]
    },
    {
     "data": {
      "text/html": [
       "<table>\n",
       "<caption>A data.frame: 2 × 4</caption>\n",
       "<thead>\n",
       "\t<tr><th scope=col>modnames</th><th scope=col>dsids</th><th scope=col>curvetypes</th><th scope=col>aucs</th></tr>\n",
       "\t<tr><th scope=col>&lt;chr&gt;</th><th scope=col>&lt;dbl&gt;</th><th scope=col>&lt;chr&gt;</th><th scope=col>&lt;dbl&gt;</th></tr>\n",
       "</thead>\n",
       "<tbody>\n",
       "\t<tr><td>m1</td><td>1</td><td>ROC</td><td>0.8858974</td></tr>\n",
       "\t<tr><td>m1</td><td>1</td><td>PRC</td><td>0.8075158</td></tr>\n",
       "</tbody>\n",
       "</table>\n"
      ],
      "text/latex": [
       "A data.frame: 2 × 4\n",
       "\\begin{tabular}{llll}\n",
       " modnames & dsids & curvetypes & aucs\\\\\n",
       " <chr> & <dbl> & <chr> & <dbl>\\\\\n",
       "\\hline\n",
       "\t m1 & 1 & ROC & 0.8858974\\\\\n",
       "\t m1 & 1 & PRC & 0.8075158\\\\\n",
       "\\end{tabular}\n"
      ],
      "text/markdown": [
       "\n",
       "A data.frame: 2 × 4\n",
       "\n",
       "| modnames &lt;chr&gt; | dsids &lt;dbl&gt; | curvetypes &lt;chr&gt; | aucs &lt;dbl&gt; |\n",
       "|---|---|---|---|\n",
       "| m1 | 1 | ROC | 0.8858974 |\n",
       "| m1 | 1 | PRC | 0.8075158 |\n",
       "\n"
      ],
      "text/plain": [
       "  modnames dsids curvetypes aucs     \n",
       "1 m1       1     ROC        0.8858974\n",
       "2 m1       1     PRC        0.8075158"
      ]
     },
     "metadata": {},
     "output_type": "display_data"
    },
    {
     "name": "stdout",
     "output_type": "stream",
     "text": [
      "Area under PR-Curve of KNN Model : 0.8075158"
     ]
    },
    {
     "name": "stderr",
     "output_type": "stream",
     "text": [
      "Setting levels: control = 0, case = 1\n",
      "\n",
      "Setting direction: controls < cases\n",
      "\n"
     ]
    },
    {
     "data": {
      "image/png": "[encoded data removed]",
      "text/plain": [
       "Plot with title \"Precision-Recall - P: 39, N: 130\""
      ]
     },
     "metadata": {
      "image/png": {
       "height": 420,
       "width": 420
      },
      "text/plain": {
       "height": 420,
       "width": 420
      }
     },
     "output_type": "display_data"
    },
    {
     "name": "stdout",
     "output_type": "stream",
     "text": [
      "   Population   Gain Lift Score.Point\n",
      "1          10  91.18 9.12           2\n",
      "2          20  91.18 4.56           2\n",
      "3          30 100.00 3.33           1\n",
      "4          40 100.00 2.50           1\n",
      "5          50 100.00 2.00           1\n",
      "6          60 100.00 1.67           1\n",
      "7          70 100.00 1.43           1\n",
      "8          80 100.00 1.25           1\n",
      "9          90 100.00 1.11           1\n",
      "10        100 100.00 1.00           1\n"
     ]
    },
    {
     "data": {
      "image/png": "[encoded data removed]",
      "text/plain": [
       "plot without title"
      ]
     },
     "metadata": {
      "image/png": {
       "height": 420,
       "width": 420
      },
      "text/plain": {
       "height": 420,
       "width": 420
      }
     },
     "output_type": "display_data"
    }
   ],
   "source": [
    "########################### KNN Algorithm ##################################\n",
    "\n",
    "library(class)\n",
    "\n",
    "\n",
    "# Dividing data into train and test using stratified sampling method.(Since, our target variable \"default\" is binary classification.(Yes or no)).\n",
    "\n",
    "# library(DataCombine)\n",
    "# set.seed(1234)\n",
    "\n",
    "set.seed(1234)\n",
    "train.index = createDataPartition(bld$default, p = .80, list = FALSE)\n",
    "# Above- list= false(we don't want repetitive observations in the training data,\n",
    "# responded =0.80(80% of observations in marketing_train),the func createData... will return indexes of the observations)\n",
    "train = bld[train.index,]\n",
    "test = bld[-train.index,]\n",
    "# str(train)\n",
    "# str(test)\n",
    "# bld\n",
    "\n",
    "\n",
    "# Predict test data\n",
    "KNN_Predictions = knn(train[, 1:length(names(bld))],test[, 1:length(names(bld))], train$default, k=2)\n",
    "\n",
    "# Confusion matrix\n",
    "confMatrix_KNN = table(KNN_Predictions, test$default)\n",
    "cm=confusionMatrix(confMatrix_KNN)\n",
    "# Evaluating the performance of or model, by making a contingency table. The(1,1) represent True negative.\n",
    "#(2,1)-False negative; all of this depends upon the target variable,here 1 implies negative and 2 implies +ve.\n",
    "\n",
    "# cm\n",
    "confMatrix_KNN\n",
    "\n",
    "TN=confMatrix_KNN[1,1]\n",
    "FP=confMatrix_KNN[1,2]\n",
    "FN=confMatrix_KNN[2,1]\n",
    "TP=confMatrix_KNN[2,2]\n",
    "\n",
    "# Accuracy\n",
    "AC = (TP + TN)/(TP + TN + FN + FP)\n",
    "cat(\"Accuracy from KNN Model     \",AC*100)\n",
    "# Recall.\n",
    "Recall = TP/(FN + TP) \n",
    "cat(\"\\nRecall from KNN Model       \",Recall*100)\n",
    "\n",
    "\n",
    "###################### PR ########################\n",
    "\n",
    "   #-----------------------1----Ye vala appy karna hai ^-^-----------------                       \n",
    "                            \n",
    "library(precrec,warn.conflicts = FALSE)\n",
    "library(ggplot2)  \n",
    "# Calculate ROC and Precision-Recall curves\n",
    "KNN_pr = evalmod(scores = as.numeric(KNN_Predictions), labels = as.numeric(test$default))\n",
    "aucs<-auc(KNN_pr)\n",
    "print(\"^-^\")   \n",
    "aucs\n",
    "plot(KNN_pr, \"PRC\", color=c(\"yellow\"),add=TRUE, lwd = 10 ,auc.main = FALSE) \n",
    "cat(\"Area under PR-Curve of KNN Model :\",aucs[2,'aucs'])\n",
    "#-----------------------2--------------------\n",
    "     \n",
    "\n",
    "# library(PRROC)                            \n",
    "# b=pr.curve(scores.class0 =as.numeric(test$default),scores.class1=as.numeric(KNN_Predictions),curve = TRUE ) \n",
    "\n",
    "# plot(b,main=\"PR Curve for NB Model\",color=\"orange\")                  \n",
    "# rm\n",
    "\n",
    "  #----------------------------------------------\n",
    "\n",
    "##################### ROC ########################\n",
    "\n",
    "detach(\"package:precrec\", unload=TRUE)\n",
    "library(pROC)\n",
    "KNN_roc = pROC::roc(as.ordered(test$default), as.ordered(KNN_Predictions))\n",
    "KNN_roc_auc = auc(KNN_roc)\n",
    "# KNN_roc_auc = aucs[1,'aucs']\n",
    "# KNN_roc_auc\n",
    "\n",
    "########################## GL ###############################\n",
    "\n",
    "library(funModeling)\n",
    "df=data.frame(actual=as.numeric(test$default), predicted=as.numeric(KNN_Predictions))\n",
    "gain_lift(data=df, score='actual', target='predicted')\n"
   ]
  },
  {
   "cell_type": "markdown",
   "metadata": {},
   "source": [
    "## For input data"
   ]
  },
  {
   "cell_type": "code",
   "execution_count": 27,
   "metadata": {},
   "outputs": [
    {
     "name": "stdout",
     "output_type": "stream",
     "text": [
      "Default value from KNN Model for input data is: 1"
     ]
    }
   ],
   "source": [
    "# Predict test data\n",
    "KNN_Predictions = knn(train[, 1:length(names(bld))],input_data[, 1:length(names(bld))], train$default, k=2)\n",
    "\n",
    "KNN_Predictions = ifelse(as.numeric(KNN_Predictions) == 2, 1, 0)\n",
    "cat(\"Default value from KNN Model for input data is:\", KNN_Predictions)"
   ]
  },
  {
   "cell_type": "markdown",
   "metadata": {},
   "source": [
    "# Naive Bayes"
   ]
  },
  {
   "cell_type": "code",
   "execution_count": 28,
   "metadata": {},
   "outputs": [
    {
     "data": {
      "text/plain": [
       "        predicted\n",
       "observed   0   1\n",
       "       0 122   8\n",
       "       1  25  14"
      ]
     },
     "metadata": {},
     "output_type": "display_data"
    },
    {
     "name": "stdout",
     "output_type": "stream",
     "text": [
      "Accuracy from NB Model      80.47337\n",
      "Recall from NB Model        35.89744\n",
      "Area under PR-Curve of NB Model : 0.4286637"
     ]
    },
    {
     "name": "stderr",
     "output_type": "stream",
     "text": [
      "Setting levels: control = 0, case = 1\n",
      "\n",
      "Setting direction: controls < cases\n",
      "\n"
     ]
    },
    {
     "data": {
      "image/png": "[encoded data removed]",
      "text/plain": [
       "Plot with title \"Precision-Recall - P: 39, N: 130\""
      ]
     },
     "metadata": {
      "image/png": {
       "height": 420,
       "width": 420
      },
      "text/plain": {
       "height": 420,
       "width": 420
      }
     },
     "output_type": "display_data"
    },
    {
     "name": "stdout",
     "output_type": "stream",
     "text": [
      "   Population   Gain Lift Score.Point\n",
      "1          10  63.64 6.36           2\n",
      "2          20  63.64 3.18           2\n",
      "3          30 100.00 3.33           1\n",
      "4          40 100.00 2.50           1\n",
      "5          50 100.00 2.00           1\n",
      "6          60 100.00 1.67           1\n",
      "7          70 100.00 1.43           1\n",
      "8          80 100.00 1.25           1\n",
      "9          90 100.00 1.11           1\n",
      "10        100 100.00 1.00           1\n"
     ]
    },
    {
     "data": {
      "image/png": "[encoded data removed]",
      "text/plain": [
       "plot without title"
      ]
     },
     "metadata": {
      "image/png": {
       "height": 420,
       "width": 420
      },
      "text/plain": {
       "height": 420,
       "width": 420
      }
     },
     "output_type": "display_data"
    }
   ],
   "source": [
    "\n",
    "# Naive bayes\n",
    "# library(e1071)\n",
    "# Developing model,using the train data.\n",
    "NB_model = naiveBayes(default ~ . , data=train)\n",
    "\n",
    "# predict on test cases, we can also use type = raw for exact probabilities.\n",
    "NB_Predictions = predict(NB_model, test[,1:length(names(bld))], type = 'class')\n",
    "\n",
    "# length(NB_Predictions)\n",
    "# Look at confusion matrix.\n",
    "confMatrix_NB = table(observed = test[,length(names(bld))], predicted = NB_Predictions)\n",
    "cm=confusionMatrix(confMatrix_NB)\n",
    "\n",
    "confMatrix_NB\n",
    "\n",
    "TN=confMatrix_NB[1,1]\n",
    "FP=confMatrix_NB[1,2]\n",
    "FN=confMatrix_NB[2,1]\n",
    "TP=confMatrix_NB[2,2]\n",
    "\n",
    "# Accuracy\n",
    "AC = (TP + TN)/(TP + TN + FN + FP)\n",
    "cat(\"Accuracy from NB Model     \",AC*100)\n",
    "# Recall.\n",
    "Recall = TP/(FN + TP) \n",
    "cat(\"\\nRecall from NB Model       \",Recall*100)\n",
    "\n",
    "#################### PR ########################\n",
    "\n",
    "library(precrec,warn.conflicts = FALSE)\n",
    "library(ggplot2)  \n",
    "# Calculate ROC and Precision-Recall curves\n",
    "NB_pr = evalmod(scores = as.numeric(NB_Predictions), labels = as.numeric(test$default))\n",
    "aucs<-auc(NB_pr)\n",
    "# print(\"^-^\")   \n",
    "# aucs\n",
    "plot(NB_pr, \"PRC\", color=c(\"yellow\"),add=TRUE, lwd = 10 ,auc.main = FALSE) \n",
    "cat(\"\\nArea under PR-Curve of NB Model :\",aucs[2,'aucs'])\n",
    "\n",
    "\n",
    "##################### ROC #######################\n",
    "\n",
    "detach(\"package:precrec\", unload=TRUE)\n",
    "library(pROC)\n",
    "NB_roc = pROC::roc(as.ordered(test$default), as.ordered(NB_Predictions))\n",
    "NB_roc_auc = auc(NB_roc)\n",
    "\n",
    "###################### Gain/Lift charts ###################\n",
    "\n",
    "library(funModeling)\n",
    "df=data.frame(actual=as.numeric(test$default), predicted=as.numeric(NB_Predictions))\n",
    "gain_lift(data=df, score='actual', target='predicted',)\n",
    "# str(df)LR_Predictions_GL"
   ]
  },
  {
   "cell_type": "markdown",
   "metadata": {},
   "source": [
    "## For input data"
   ]
  },
  {
   "cell_type": "code",
   "execution_count": 29,
   "metadata": {},
   "outputs": [
    {
     "name": "stdout",
     "output_type": "stream",
     "text": [
      "Default value from Naive Bayes Model for input data is: 1"
     ]
    }
   ],
   "source": [
    "NB_Predictions = predict(NB_model, input_data[,1:length(names(input_data))], type = 'class')\n",
    "\n",
    "NB_Predictions = ifelse(as.numeric(NB_Predictions) == 1, 1, 0)\n",
    "cat(\"Default value from Naive Bayes Model for input data is:\", (NB_Predictions))\n"
   ]
  },
  {
   "cell_type": "markdown",
   "metadata": {},
   "source": [
    "# XG Boosting Model"
   ]
  },
  {
   "cell_type": "code",
   "execution_count": 30,
   "metadata": {
    "scrolled": false
   },
   "outputs": [
    {
     "name": "stdout",
     "output_type": "stream",
     "text": [
      "[1] \"Final Accuracy = 79.34\"\n",
      "Recall 44.83"
     ]
    },
    {
     "data": {
      "text/html": [
       "<table>\n",
       "<caption>A data.frame: 2 × 4</caption>\n",
       "<thead>\n",
       "\t<tr><th scope=col>modnames</th><th scope=col>dsids</th><th scope=col>curvetypes</th><th scope=col>aucs</th></tr>\n",
       "\t<tr><th scope=col>&lt;chr&gt;</th><th scope=col>&lt;dbl&gt;</th><th scope=col>&lt;chr&gt;</th><th scope=col>&lt;dbl&gt;</th></tr>\n",
       "</thead>\n",
       "<tbody>\n",
       "\t<tr><td>m1</td><td>1</td><td>ROC</td><td>0.6120250</td></tr>\n",
       "\t<tr><td>m1</td><td>1</td><td>PRC</td><td>0.3096107</td></tr>\n",
       "</tbody>\n",
       "</table>\n"
      ],
      "text/latex": [
       "A data.frame: 2 × 4\n",
       "\\begin{tabular}{llll}\n",
       " modnames & dsids & curvetypes & aucs\\\\\n",
       " <chr> & <dbl> & <chr> & <dbl>\\\\\n",
       "\\hline\n",
       "\t m1 & 1 & ROC & 0.6120250\\\\\n",
       "\t m1 & 1 & PRC & 0.3096107\\\\\n",
       "\\end{tabular}\n"
      ],
      "text/markdown": [
       "\n",
       "A data.frame: 2 × 4\n",
       "\n",
       "| modnames &lt;chr&gt; | dsids &lt;dbl&gt; | curvetypes &lt;chr&gt; | aucs &lt;dbl&gt; |\n",
       "|---|---|---|---|\n",
       "| m1 | 1 | ROC | 0.6120250 |\n",
       "| m1 | 1 | PRC | 0.3096107 |\n",
       "\n"
      ],
      "text/plain": [
       "  modnames dsids curvetypes aucs     \n",
       "1 m1       1     ROC        0.6120250\n",
       "2 m1       1     PRC        0.3096107"
      ]
     },
     "metadata": {},
     "output_type": "display_data"
    },
    {
     "name": "stdout",
     "output_type": "stream",
     "text": [
      "\n",
      "Area under PR-Curve of XGB Model : 0.3096107"
     ]
    },
    {
     "name": "stderr",
     "output_type": "stream",
     "text": [
      "Setting levels: control = 0, case = 1\n",
      "\n",
      "Setting direction: controls < cases\n",
      "\n"
     ]
    },
    {
     "data": {
      "image/png": "[encoded data removed]",
      "text/plain": [
       "plot without title"
      ]
     },
     "metadata": {
      "image/png": {
       "height": 420,
       "width": 420
      },
      "text/plain": {
       "height": 420,
       "width": 420
      }
     },
     "output_type": "display_data"
    },
    {
     "name": "stdout",
     "output_type": "stream",
     "text": [
      "   Population   Gain Lift Score.Point\n",
      "1          10  44.83 4.48           1\n",
      "2          20 100.00 5.00           0\n",
      "3          30 100.00 3.33           0\n",
      "4          40 100.00 2.50           0\n",
      "5          50 100.00 2.00           0\n",
      "6          60 100.00 1.67           0\n",
      "7          70 100.00 1.43           0\n",
      "8          80 100.00 1.25           0\n",
      "9          90 100.00 1.11           0\n",
      "10        100 100.00 1.00           0\n"
     ]
    },
    {
     "data": {
      "image/png": "[encoded data removed]",
      "text/plain": [
       "plot without title"
      ]
     },
     "metadata": {
      "image/png": {
       "height": 420,
       "width": 420
      },
      "text/plain": {
       "height": 420,
       "width": 420
      }
     },
     "output_type": "display_data"
    }
   ],
   "source": [
    "##################### XG Boosting Algorithm ######################\n",
    "\n",
    "library(xgboost)\n",
    "\n",
    "xg_bld=bld\n",
    "xg_bld$ed=as.numeric(xg_bld$ed)\n",
    "default = xg_bld$default\n",
    "label = as.integer(xg_bld$default)-1\n",
    "xg_bld$default = NULL\n",
    "\n",
    "# Convert the Species factor to an integer class starting at 0\n",
    "# This is picky, but it's a requirement for XGBoost\n",
    "\n",
    "n = nrow(xg_bld)\n",
    "train.index = sample(n,floor(0.75*n))\n",
    "train.data = as.matrix(xg_bld[train.index,])\n",
    "train.label = label[train.index]\n",
    "test.data = as.matrix(xg_bld[-train.index,])\n",
    "test.label = label[-train.index]\n",
    "# str(train.data)\n",
    "# str(test.data)\n",
    "\n",
    "# Transform the two data sets into xgb.Matrix\n",
    "xgb.train = xgb.DMatrix(data=train.data,label=train.label)\n",
    "xgb.test = xgb.DMatrix(data=test.data,label=test.label)\n",
    "\n",
    "\n",
    "num_class = length(levels(default))\n",
    "params = list(\n",
    "  booster=\"gbtree\",\n",
    "  eta=0.001,\n",
    "  max_depth=5,\n",
    "  gamma=2,\n",
    "  subsample=0.75,\n",
    "  colsample_bytree=1,\n",
    "  objective=\"multi:softprob\",\n",
    "  eval_metric=\"mlogloss\",\n",
    "  num_class=num_class\n",
    ")\n",
    "\n",
    "\n",
    "\n",
    "\n",
    "xgb.fit=xgb.train(\n",
    "  params=params,\n",
    "  data=xgb.train,\n",
    "  nrounds=1000,\n",
    "  nthreads=1,\n",
    "  early_stopping_rounds=10,\n",
    "  watchlist=list(val1=xgb.train,val2=xgb.test),\n",
    "  verbose=0\n",
    ")\n",
    "\n",
    "\n",
    "\n",
    "\n",
    "# Review the final model and results\n",
    "# xgb.fit\n",
    "xgb.pred = predict(xgb.fit,test.data,reshape=T)\n",
    "xgb.pred = as.data.frame(xgb.pred)\n",
    "colnames(xgb.pred) = levels(default)\n",
    "\n",
    "\n",
    "\n",
    "\n",
    "# Use the predicted label with the highest probability\n",
    "xgb.pred$prediction = apply(xgb.pred,1,function(x) colnames(xgb.pred)[which.max(x)])\n",
    "xgb.pred$label = levels(default)[test.label+1]\n",
    "\n",
    "# Calculate the final accuracy\n",
    "result = sum(xgb.pred$prediction==xgb.pred$label)/nrow(xgb.pred)                           \n",
    "print(paste(\"Final Accuracy =\",round(100*result, digits = 2)))  \n",
    "\n",
    "TP=0\n",
    "FN=0\n",
    "for (x in (1:length(xgb.pred$label)))\n",
    "{\n",
    "    if(xgb.pred$label[x] == '1' & xgb.pred$prediction[x] == '1')\n",
    "    {\n",
    "      TP = TP + 1   \n",
    "    }\n",
    "    if(xgb.pred$label[x] == '0' & xgb.pred$prediction[x] == '1')\n",
    "    {\n",
    "      FN = FN + 1   \n",
    "    }   \n",
    "}\n",
    "# Recall\n",
    "recall = TP/(TP + FN)\n",
    "cat(\"Recall\", round(100*recall, digits = 2))\n",
    "                            \n",
    "                              \n",
    "#################### PR ########################\n",
    "\n",
    "library(precrec,warn.conflicts = FALSE)\n",
    "library(ggplot2)  \n",
    "# Calculate ROC and Precision-Recall curves\n",
    "XGB_pr = evalmod(scores = as.numeric(xgb.pred$prediction), labels = as.numeric(xgb.pred$label))\n",
    "aucs<-auc(XGB_pr)\n",
    "\n",
    "aucs\n",
    "autoplot(XGB_pr, \"PRC\", color=c(\"yellow\"),add=TRUE, lwd = 10) \n",
    "cat(\"\\nArea under PR-Curve of XGB Model :\",aucs[2,'aucs'])\n",
    "\n",
    "\n",
    "############# ROC #####################\n",
    "\n",
    "detach(\"package:precrec\", unload=TRUE)                            \n",
    "library(pROC)\n",
    "XGB_roc=pROC::roc(as.ordered(xgb.pred$label),as.ordered(xgb.pred$prediction))\n",
    "XGB_roc_auc=auc(XGB_roc)\n",
    "\n",
    "########################## GL ###############################\n",
    "\n",
    "library(funModeling)\n",
    "df=data.frame(actual=as.numeric(xgb.pred$label), predicted=as.numeric(xgb.pred$prediction))\n",
    "gain_lift(data=df, score='actual', target='predicted')\n",
    "                            \n",
    "                            "
   ]
  },
  {
   "cell_type": "markdown",
   "metadata": {},
   "source": [
    "## For input data"
   ]
  },
  {
   "cell_type": "code",
   "execution_count": 31,
   "metadata": {},
   "outputs": [
    {
     "name": "stdout",
     "output_type": "stream",
     "text": [
      "Default value from XGB Model for input data is: 1"
     ]
    }
   ],
   "source": [
    "# xg_bld=bld\n",
    "input_data_sample = input_data\n",
    "input_data_sample$ed=as.numeric(input_data_sample$ed)\n",
    "label = as.integer(input_data_sample$default)-1\n",
    "input_data_sample$default = NULL\n",
    "\n",
    "# Convert the default and ed factor to an integer class starting at 0\n",
    "# This is picky, but it's a requirement for XGBoost\n",
    "\n",
    "n = nrow(input_data_sample)\n",
    "train.index = sample(n,floor(1*n))\n",
    "input_data_sample = as.matrix(input_data_sample[train.index,])\n",
    "input_data_sample.label = label[train.index]\n",
    "\n",
    "xgb.test = xgb.DMatrix(data=input_data_sample, label=input_data_sample.label)\n",
    "xgb.pred = predict(xgb.fit, input_data_sample, reshape=T)\n",
    "# as.integer(xgb.pred)\n",
    "# xgb.pred[1]\n",
    "\n",
    "xgb.pred = ifelse(as.numeric(xgb.pred[1]) >= 0.5, 1, 0)\n",
    "cat(\"Default value from XGB Model for input data is:\", xgb.pred[1])\n"
   ]
  },
  {
   "cell_type": "markdown",
   "metadata": {},
   "source": [
    "# Support Vector Machine Model "
   ]
  },
  {
   "cell_type": "code",
   "execution_count": 32,
   "metadata": {},
   "outputs": [
    {
     "data": {
      "text/plain": [
       "        predicted\n",
       "observed   0   1\n",
       "       0 122   8\n",
       "       1  25  14"
      ]
     },
     "metadata": {},
     "output_type": "display_data"
    },
    {
     "name": "stdout",
     "output_type": "stream",
     "text": [
      "Accuracy from SVM Model      80.47337\n",
      "Recall from SVM Model        35.89744\n",
      "Area under PR-Curve of SVM Model : 0.2441538"
     ]
    },
    {
     "name": "stderr",
     "output_type": "stream",
     "text": [
      "Setting levels: control = 0, case = 1\n",
      "\n",
      "Setting direction: controls < cases\n",
      "\n"
     ]
    },
    {
     "data": {
      "image/png": "[encoded data removed]",
      "text/plain": [
       "Plot with title \"Precision-Recall - P: 39, N: 130\""
      ]
     },
     "metadata": {
      "image/png": {
       "height": 420,
       "width": 420
      },
      "text/plain": {
       "height": 420,
       "width": 420
      }
     },
     "output_type": "display_data"
    },
    {
     "name": "stdout",
     "output_type": "stream",
     "text": [
      "   Population Gain Lift Score.Point\n",
      "1          10   30 3.00           2\n",
      "2          20   30 1.50           2\n",
      "3          30  100 3.33           1\n",
      "4          40  100 2.50           1\n",
      "5          50  100 2.00           1\n",
      "6          60  100 1.67           1\n",
      "7          70  100 1.43           1\n",
      "8          80  100 1.25           1\n",
      "9          90  100 1.11           1\n",
      "10        100  100 1.00           1\n"
     ]
    },
    {
     "data": {
      "image/png": "[encoded data removed]",
      "text/plain": [
       "plot without title"
      ]
     },
     "metadata": {
      "image/png": {
       "height": 420,
       "width": 420
      },
      "text/plain": {
       "height": 420,
       "width": 420
      }
     },
     "output_type": "display_data"
    }
   ],
   "source": [
    "#Import Library\n",
    "# require(e1071) #Contains the SVM \n",
    "library(e1071)\n",
    "# Train <- read.csv(file.choose())\n",
    "# Test <- read.csv(file.choose())\n",
    "# there are various options associated with SVM training; like changing kernel, gamma and C value.\n",
    "\n",
    "# create model\n",
    "# SVM_model <- svm(default~., data=train, kernel='linear', C = 0.9,  gamma= 0.6)\n",
    "SVM_model <- svm(default~., data=train, kernel = \"radial\", type = 'C-classification', gamma= 1.6)\n",
    "\n",
    "#Predict Output\n",
    "SVM_Predictions <- predict(SVM_model, test[,1:length(names(bld))])\n",
    "# table(preds)\n",
    " \n",
    "# Look at confusion matrix.\n",
    "confMatrix_SVM = table(observed = test[,length(names(bld))], predicted = SVM_Predictions)\n",
    "cm=confusionMatrix(confMatrix_SVM)\n",
    "\n",
    "confMatrix_NB\n",
    "\n",
    "TN=confMatrix_NB[1,1]\n",
    "FP=confMatrix_NB[1,2]\n",
    "FN=confMatrix_NB[2,1]\n",
    "TP=confMatrix_NB[2,2]\n",
    "\n",
    "# Accuracy\n",
    "AC = (TP + TN)/(TP + TN + FN + FP)\n",
    "cat(\"Accuracy from SVM Model     \",AC*100)\n",
    "# Recall.\n",
    "Recall = TP/(FN + TP) \n",
    "cat(\"\\nRecall from SVM Model       \",Recall*100)\n",
    "\n",
    "#################### PR ########################\n",
    "\n",
    "library(precrec,warn.conflicts = FALSE)\n",
    "library(ggplot2)  \n",
    "# Calculate ROC and Precision-Recall curves\n",
    "SVM_pr = evalmod(scores = as.numeric(SVM_Predictions), labels = as.numeric(test$default))\n",
    "aucs<-auc(SVM_pr)\n",
    "# print(\"^-^\")   \n",
    "# aucs\n",
    "plot(SVM_pr, \"PRC\", color=c(\"yellow\"),add=TRUE, lwd = 10 ,auc.main = FALSE) \n",
    "cat(\"\\nArea under PR-Curve of SVM Model :\",aucs[2,'aucs'])\n",
    "\n",
    "\n",
    "##################### ROC #######################\n",
    "\n",
    "detach(\"package:precrec\", unload=TRUE)\n",
    "library(pROC)\n",
    "SVM_roc = pROC::roc(as.ordered(test$default), as.ordered(SVM_Predictions))\n",
    "SVM_roc_auc = auc(SVM_roc)\n",
    "\n",
    "###################### Gain/Lift charts ###################\n",
    "\n",
    "library(funModeling)\n",
    "df=data.frame(actual=as.numeric(test$default), predicted=as.numeric(SVM_Predictions))\n",
    "gain_lift(data=df, score='actual', target='predicted',)\n",
    "\n"
   ]
  },
  {
   "cell_type": "markdown",
   "metadata": {},
   "source": [
    "# ROC Curve"
   ]
  },
  {
   "cell_type": "code",
   "execution_count": 33,
   "metadata": {},
   "outputs": [],
   "source": [
    "# # change the quality column to a 1 (if quality > 5) or a 0\n",
    "# # df$quality <- ifelse(df$quality>5,1,0)\n",
    "# # change the quality column to a factor type\n",
    "# bld$default <- as.factor(bld$default)\n",
    "# # split the dataframe into train and test sets\n",
    "# # index <- sample(1:nrow(bld),size = 0.8*nrow(bld))\n",
    "# # train <- bld[index,]\n",
    "# # test <- bld[-index,]\n",
    "# # build the random forest model and test it\n",
    "# library(randomForest)\n",
    "# rf_model <- randomForest(default ~., data = train,ntree = 1000,importance = FALSE)\n",
    "# rf_prediction <- predict(rf_model, test, type = \"prob\")\n",
    "# # build the logistic regression model and test it\n",
    "# # lr_model <- glm(quality ~., data = train, family = \"binomial\")\n",
    "# # lr_prediction <- predict(lr_model, test, type = \"response\")\n",
    "# # ROC curves\n",
    "# library(pROC)\n",
    "# ROC_rf <- roc(test$default, rf_prediction[,2])\n",
    "# # ROC_lr <- roc(test$default, lr_prediction)\n",
    "# # Area Under Curve (AUC) for each ROC curve (higher -> better)\n",
    "# ROC_rf_auc <- auc(ROC_rf)\n",
    "# # ROC_lr_auc <- auc(ROC_lr)\n",
    "# # plot ROC curves\n",
    "# plot(ROC_rf, col = \"green\", main = \"ROC For Random Forest (GREEN)\")\n",
    "# # lines(ROC_lr, col = \"red\")\n",
    "# # print the performance of each model\n",
    "# paste(\"Accuracy % of random forest: \", mean(test$default == round(rf_prediction[,2], digits = 0)))\n",
    "# # paste(\"Accuracy % of logistic regression: \", mean(test$quality == round(lr_prediction, digits = 0)))\n",
    "# paste(\"Area under curve of random forest: \", ROC_rf_auc)\n",
    "# # paste(\"Area under curve of logistic regression: \", ROC_lr_auc)"
   ]
  },
  {
   "cell_type": "markdown",
   "metadata": {},
   "source": [
    "# ROC Curve "
   ]
  },
  {
   "cell_type": "code",
   "execution_count": 34,
   "metadata": {},
   "outputs": [
    {
     "data": {
      "image/png": "[encoded data removed]",
      "text/plain": [
       "plot without title"
      ]
     },
     "metadata": {
      "image/png": {
       "height": 420,
       "width": 420
      },
      "text/plain": {
       "height": 420,
       "width": 420
      }
     },
     "output_type": "display_data"
    }
   ],
   "source": [
    "library(pROC)\n",
    "\n",
    "plot.roc(RF_roc, col = \"yellow\",print.auc=TRUE, print.auc.x = 0.88, print.auc.y = 0.2, lwd = 3, lty = \"solid\")\n",
    "plot.roc(KNN_roc, col = \"red\", add = TRUE, print.auc=TRUE, print.auc.x = 0.67, print.auc.y = 0.82, lwd = 3, lty = \"solid\")\n",
    "plot.roc(NB_roc, col=\"magenta\", add=TRUE, print.auc=TRUE, print.auc.x = 0.4,print.auc.y = 0.6, lwd = 3, lty = \"solid\")\n",
    "plot.roc(XGB_roc, col=\"blue\", add=TRUE, print.auc=TRUE, print.auc.x = 0.5,print.auc.y = 0.63, lwd = 3, lty = \"solid\")\n",
    "plot.roc(LR_roc, col=\"orange\", add=TRUE, print.auc=TRUE, print.auc.x = 0.83,print.auc.y = 0.55, lwd = 3, lty = \"solid\")\n",
    "plot.roc(DT_roc, col=\"black\", add=TRUE, print.auc=TRUE, print.auc.x = 0.80,print.auc.y = 0.50, lwd = 3, lty = \"solid\",)\n",
    "plot.roc(SVM_roc, col=\"green\", add=TRUE, print.auc=TRUE, print.auc.x = 0.80,print.auc.y = 0.50, lwd = 3, lty = \"solid\",)\n",
    "\n",
    "\n",
    "legend(\"bottomright\", legend=c(\"Random Forest\", \"KNN\", \"Naive Bayes\",\"Xtreme GB\", \"Logistic Regression\", \"Decision Tree\", \"SVM\"),\n",
    "       col=c(\"yellow\",\"red\", \"magenta\",\"blue\",\"orange\",\"black\",\"green\"), lwd=10,title=\"ML Models\")\n"
   ]
  },
  {
   "cell_type": "code",
   "execution_count": 35,
   "metadata": {
    "scrolled": true
   },
   "outputs": [],
   "source": [
    "# # plot.roc(RF_roc, col = \"green\", add = FALSE,print.auc=TRUE, print.auc.x = 0.6, print.auc.y = 0.24, lty = \"solid\", lwd=2.6)\n",
    "# # plot.roc(KNN_roc, col = \"red\", add = TRUE,print.auc=TRUE, print.auc.x = 0.6, print.auc.y = 0.20, lty = \"solid\", lwd=2.6)\n",
    "# plot.roc(RF_roc, col = \"green\", add = FALSE, lty = \"solid\", lwd=2.4)\n",
    "# plot.roc(KNN_roc, col = \"red\", add = TRUE, lty = \"solid\", lwd=2.4)\n",
    "# plot.roc(NB_roc, col=\"magenta\", add=TRUE, lty = \"solid\", lwd=2.4)\n",
    "# plot.roc(XGB_roc, col=\"blue\", add=TRUE, lty = \"solid\", lwd=2.4)\n",
    "# plot.roc(LR_roc, col=\"pink\", add=TRUE, lty = \"solid\", lwd=2.4)\n",
    "# plot.roc(DT_roc, col=\"black\", add=TRUE, lty = \"solid\", lwd=2.4)\n",
    "\n",
    "# legend(\"bottomright\", legend=c(\"Random Forest\", \"KNN\", \"Naive Bayes\",\"Xtreme GB\", \"Logistic Regression\", \"Decision Tree\"),\n",
    "#        col=c(\"green\",\"red\", \"magenta\",\"blue\",\"pink\",\"black\"), lwd=10, title=\"ML Models\")\n",
    "\n",
    "\n",
    "# aucc <- c(RF_roc_auc,KNN_roc_auc, NB_roc_auc, XGB_roc_auc, LR_roc_auc, DT_roc_auc)\n",
    "# aucc=ifelse(aucc>1 ,1,round(aucc,digits = 2))\n",
    "\n",
    "# # legend=c(RF_auc, KNN_auc, NB_auc, XGB_auc, LR_auc, DT_auc)\n",
    "# # library(stringr)\n",
    "# # for(i in 1:6)\n",
    "# # {\n",
    "# #     aucc[[i]]=paste(\"AUC \", str_c(aucc[[i]]),sep=\" \")\n",
    "# # }    \n",
    "# legend(\"topleft\", legend=c( aucc[[1]], aucc[[2]], aucc[[3]], aucc[[4]], aucc[[5]], aucc[[6]]),\n",
    "#        col=c(\"green\",\"red\", \"magenta\",\"blue\",\"pink\",\"black\"), lwd=8, title=\"AUC Values\")\n",
    "\n",
    "# # aucc[[6]]"
   ]
  },
  {
   "cell_type": "code",
   "execution_count": null,
   "metadata": {},
   "outputs": [],
   "source": []
  }
 ],
 "metadata": {
  "kernelspec": {
   "display_name": "R",
   "language": "R",
   "name": "ir"
  },
  "language_info": {
   "codemirror_mode": "r",
   "file_extension": ".r",
   "mimetype": "text/x-r-source",
   "name": "R",
   "pygments_lexer": "r",
   "version": "3.6.3"
  }
 },
 "nbformat": 4,
 "nbformat_minor": 4
}
